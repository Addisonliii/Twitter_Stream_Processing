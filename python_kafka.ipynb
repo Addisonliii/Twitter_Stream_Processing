{
  "nbformat": 4,
  "nbformat_minor": 0,
  "metadata": {
    "colab": {
      "name": "python_kafka.ipynb",
      "version": "0.3.2",
      "provenance": [],
      "include_colab_link": true
    },
    "kernelspec": {
      "name": "python3",
      "display_name": "Python 3"
    }
  },
  "cells": [
    {
      "cell_type": "markdown",
      "metadata": {
        "id": "view-in-github",
        "colab_type": "text"
      },
      "source": [
        "<a href=\"https://colab.research.google.com/github/zw2497/Twitter_Stream_Processing/blob/master/python_kafka.ipynb\" target=\"_parent\"><img src=\"https://colab.research.google.com/assets/colab-badge.svg\" alt=\"Open In Colab\"/></a>"
      ]
    },
    {
      "metadata": {
        "id": "UDKzWWF-O4t7",
        "colab_type": "code",
        "colab": {
          "base_uri": "https://localhost:8080/",
          "height": 128
        },
        "outputId": "ddacc9fc-d1bb-4e8a-9204-5747e74c05e8"
      },
      "cell_type": "code",
      "source": [
        "!pip install kafka-python"
      ],
      "execution_count": 1,
      "outputs": [
        {
          "output_type": "stream",
          "text": [
            "Collecting kafka-python\n",
            "\u001b[?25l  Downloading https://files.pythonhosted.org/packages/82/39/aebe3ad518513bbb2260dd84ac21e5c30af860cc4c95b32acbd64b9d9d0d/kafka_python-1.4.6-py2.py3-none-any.whl (259kB)\n",
            "\u001b[K    100% |████████████████████████████████| 266kB 11.9MB/s \n",
            "\u001b[?25hInstalling collected packages: kafka-python\n",
            "Successfully installed kafka-python-1.4.6\n"
          ],
          "name": "stdout"
        }
      ]
    },
    {
      "metadata": {
        "id": "M3abzoZIEaKP",
        "colab_type": "code",
        "colab": {}
      },
      "cell_type": "code",
      "source": [
        "from kafka import KafkaProducer\n",
        "from kafka.errors import KafkaError"
      ],
      "execution_count": 0,
      "outputs": []
    },
    {
      "metadata": {
        "id": "SqtK8JY2EFxi",
        "colab_type": "text"
      },
      "cell_type": "markdown",
      "source": [
        "# kafka-python\n",
        "## Producer"
      ]
    },
    {
      "metadata": {
        "id": "lh14NBtcLPaB",
        "colab_type": "code",
        "colab": {}
      },
      "cell_type": "code",
      "source": [
        "from kafka import KafkaProducer\n",
        "from json import dumps"
      ],
      "execution_count": 0,
      "outputs": []
    },
    {
      "metadata": {
        "id": "uiiQzn9Ad5zD",
        "colab_type": "code",
        "colab": {}
      },
      "cell_type": "code",
      "source": [
        "producer = KafkaProducer(bootstrap_servers=['18.216.34.97:9092'],\n",
        "                         value_serializer=lambda x: \n",
        "                         dumps(x).encode('utf-8'))"
      ],
      "execution_count": 0,
      "outputs": []
    },
    {
      "metadata": {
        "id": "RrOOmJ4N1zA9",
        "colab_type": "code",
        "colab": {}
      },
      "cell_type": "code",
      "source": [
        "for e in range(10):\n",
        "    data = {'number' : e + 50}\n",
        "    producer.send('numtest', value=data)"
      ],
      "execution_count": 0,
      "outputs": []
    },
    {
      "metadata": {
        "id": "lucvFMXCKhai",
        "colab_type": "code",
        "colab": {}
      },
      "cell_type": "code",
      "source": [
        "producer.close()"
      ],
      "execution_count": 0,
      "outputs": []
    },
    {
      "metadata": {
        "id": "dlEbl8MhELhb",
        "colab_type": "text"
      },
      "cell_type": "markdown",
      "source": [
        "## Consumer"
      ]
    },
    {
      "metadata": {
        "id": "YrDJzmIMe177",
        "colab_type": "code",
        "colab": {}
      },
      "cell_type": "code",
      "source": [
        "from kafka import KafkaConsumer\n",
        "from json import loads"
      ],
      "execution_count": 0,
      "outputs": []
    },
    {
      "metadata": {
        "id": "XFnrQhIFgAx1",
        "colab_type": "code",
        "colab": {}
      },
      "cell_type": "code",
      "source": [
        "consumer = KafkaConsumer(\n",
        "    'topk1',\n",
        "     bootstrap_servers=['18.216.34.97:9092'],\n",
        "     auto_offset_reset='earliest',\n",
        "     enable_auto_commit=True,\n",
        "     group_id='mwewewrwer6'\n",
        ")"
      ],
      "execution_count": 0,
      "outputs": []
    },
    {
      "metadata": {
        "id": "BjZ0oyuRwe_s",
        "colab_type": "code",
        "colab": {}
      },
      "cell_type": "code",
      "source": [
        "for message in consumer:\n",
        "    print(message)"
      ],
      "execution_count": 0,
      "outputs": []
    },
    {
      "metadata": {
        "id": "0j6MEk1Gtven",
        "colab_type": "code",
        "colab": {}
      },
      "cell_type": "code",
      "source": [
        "consumer.close()"
      ],
      "execution_count": 0,
      "outputs": []
    },
    {
      "metadata": {
        "id": "BDlmfU0BszPc",
        "colab_type": "text"
      },
      "cell_type": "markdown",
      "source": [
        "## Batch Consumer\n",
        "> https://kafka-python.readthedocs.io/en/master/apidoc/KafkaConsumer.html"
      ]
    },
    {
      "metadata": {
        "id": "2rrhqLvISLdk",
        "colab_type": "code",
        "colab": {}
      },
      "cell_type": "code",
      "source": [
        "consumer.poll(timeout_ms=10000, max_records=None)"
      ],
      "execution_count": 0,
      "outputs": []
    },
    {
      "metadata": {
        "id": "1_fplNqRtr30",
        "colab_type": "code",
        "colab": {}
      },
      "cell_type": "code",
      "source": [
        ""
      ],
      "execution_count": 0,
      "outputs": []
    }
  ]
}