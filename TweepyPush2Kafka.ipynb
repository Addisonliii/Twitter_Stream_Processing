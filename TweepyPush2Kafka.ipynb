{
  "nbformat": 4,
  "nbformat_minor": 0,
  "metadata": {
    "colab": {
      "name": "Tweepy_push.ipynb",
      "version": "0.3.2",
      "provenance": [],
      "include_colab_link": true
    },
    "kernelspec": {
      "name": "python3",
      "display_name": "Python 3"
    }
  },
  "cells": [
    {
      "cell_type": "markdown",
      "metadata": {
        "id": "view-in-github",
        "colab_type": "text"
      },
      "source": [
        "<a href=\"https://colab.research.google.com/github/zw2497/Twitter_Stream_Processing/blob/master/TweepyPush2Kafka.ipynb\" target=\"_parent\"><img src=\"https://colab.research.google.com/assets/colab-badge.svg\" alt=\"Open In Colab\"/></a>"
      ]
    },
    {
      "metadata": {
        "id": "i0OCbyNWU-Dh",
        "colab_type": "code",
        "colab": {}
      },
      "cell_type": "code",
      "source": [
        "!pip install tweepy\n",
        "!pip install kafka-python"
      ],
      "execution_count": 0,
      "outputs": []
    },
    {
      "metadata": {
        "id": "P1brOjNndBpq",
        "colab_type": "code",
        "colab": {}
      },
      "cell_type": "code",
      "source": [
        "from kafka import KafkaProducer, KafkaConsumer\n",
        "from kafka.errors import KafkaError\n",
        "from json import dumps, loads\n",
        "\n",
        "import tweepy"
      ],
      "execution_count": 0,
      "outputs": []
    },
    {
      "metadata": {
        "id": "DoV20lPWdSJh",
        "colab_type": "code",
        "colab": {}
      },
      "cell_type": "code",
      "source": [
        "producer = KafkaProducer(bootstrap_servers=['18.216.34.97:9092'],\n",
        "                         value_serializer=lambda x: dumps(x).encode('utf-8'))"
      ],
      "execution_count": 0,
      "outputs": []
    },
    {
      "metadata": {
        "id": "atB5bNI0emQa",
        "colab_type": "text"
      },
      "cell_type": "markdown",
      "source": [
        "### Setup Streaming"
      ]
    },
    {
      "metadata": {
        "id": "nBCu72a9U6aO",
        "colab_type": "code",
        "colab": {}
      },
      "cell_type": "code",
      "source": [
        "class LDSStreamListener(tweepy.StreamListener):\n",
        "    def on_status(self, status):\n",
        "        print(status.text)\n",
        "        # modify topic here\n",
        "        producer.send('tweepyv1', value=status._json) "
      ],
      "execution_count": 0,
      "outputs": []
    },
    {
      "metadata": {
        "id": "45e9LBkOVERg",
        "colab_type": "code",
        "colab": {}
      },
      "cell_type": "code",
      "source": [
        "consumer_key  = \"2wrYTQnh4poBbF5MsubR3sk4k\"\n",
        "consumer_secret = \"93Yi0isNNgNPW4bFo8hsMpANUIw61lofgRRpz8H39P5V6o63tl\"\n",
        "access_token  = \"2761651876-LoLkgE3EFYkqIHSGEPvzB3udtmATj4XNem2MemW\"\n",
        "access_token_secret = \"1uDlUpdk6mrinFKFl3vN06xIVeORaa60EjubXrEOSpYKc\"\n",
        "\n",
        "auth = tweepy.OAuthHandler(consumer_key, consumer_secret)\n",
        "auth.set_access_token(access_token, access_token_secret)\n",
        "api = tweepy.API(auth)"
      ],
      "execution_count": 0,
      "outputs": []
    },
    {
      "metadata": {
        "id": "wgAVtWUaVJBe",
        "colab_type": "code",
        "colab": {}
      },
      "cell_type": "code",
      "source": [
        "myStream = tweepy.Stream(auth=api.auth, listener=LDSStreamListener())"
      ],
      "execution_count": 0,
      "outputs": []
    },
    {
      "metadata": {
        "id": "AaKL3UXJefuX",
        "colab_type": "text"
      },
      "cell_type": "markdown",
      "source": [
        "### Start Streaming"
      ]
    },
    {
      "metadata": {
        "id": "RDt_is8EVx3X",
        "colab_type": "code",
        "colab": {}
      },
      "cell_type": "code",
      "source": [
        "myStream.filter(track=['avengers'], languages=['en'])"
      ],
      "execution_count": 0,
      "outputs": []
    },
    {
      "metadata": {
        "id": "fZnFdI6Beimh",
        "colab_type": "text"
      },
      "cell_type": "markdown",
      "source": [
        "### Consumer Test"
      ]
    },
    {
      "metadata": {
        "id": "8buYZQz2V805",
        "colab_type": "code",
        "colab": {}
      },
      "cell_type": "code",
      "source": [
        "consumer = KafkaConsumer(\n",
        "    'tweepyv1',\n",
        "     bootstrap_servers=['18.216.34.97:9092'],\n",
        "     auto_offset_reset='earliest',\n",
        "     enable_auto_commit=True,\n",
        "     group_id='my-group3102',\n",
        "     value_deserializer=lambda x: loads(x.decode('utf-8')))"
      ],
      "execution_count": 0,
      "outputs": []
    },
    {
      "metadata": {
        "id": "l6M0-fY5eDVY",
        "colab_type": "code",
        "colab": {}
      },
      "cell_type": "code",
      "source": [
        "for message in consumer:\n",
        "    message = message.value\n",
        "    print(message)"
      ],
      "execution_count": 0,
      "outputs": []
    },
    {
      "metadata": {
        "id": "X7dkdgRReUDG",
        "colab_type": "code",
        "colab": {}
      },
      "cell_type": "code",
      "source": [
        ""
      ],
      "execution_count": 0,
      "outputs": []
    }
  ]
}