{
 "cells": [
  {
   "cell_type": "markdown",
   "metadata": {
    "colab_type": "text",
    "id": "view-in-github"
   },
   "source": [
    "<a href=\"https://colab.research.google.com/github/zw2497/Twitter_Stream_Processing/blob/master/PySpark_Structured_Streaming.ipynb\" target=\"_parent\"><img src=\"https://colab.research.google.com/assets/colab-badge.svg\" alt=\"Open In Colab\"/></a>"
   ]
  },
  {
   "cell_type": "markdown",
   "metadata": {
    "colab_type": "text",
    "id": "kvD4HBMi0ohY"
   },
   "source": [
    "# Install Java, Spark, and Findspark\n",
    "This installs Apache Spark 2.4.0, Java 8, and [Findspark](https://github.com/minrk/findspark), a library that makes it easy for Python to find Spark."
   ]
  },
  {
   "cell_type": "code",
   "execution_count": 1,
   "metadata": {
    "colab": {
     "base_uri": "https://localhost:8080/",
     "height": 63
    },
    "colab_type": "code",
    "id": "fUhBhrGmyAvs",
    "outputId": "8696e6f2-1e81-48d1-f63d-c289857c58af"
   },
   "outputs": [],
   "source": [
    "# !apt-get install openjdk-8-jdk-headless -qq > /dev/null\n",
    "!wget -q https://www-us.apache.org/dist/spark/spark-2.4.2/spark-2.4.2-bin-hadoop2.7.tgz\n",
    "!tar xf spark-2.4.2-bin-hadoop2.7.tgz\n",
    "# !pip -q install findspark"
   ]
  },
  {
   "cell_type": "markdown",
   "metadata": {
    "colab_type": "text",
    "id": "b4Kjvk_h1AHl"
   },
   "source": [
    "#### Set Environment Variables\n",
    "Set the locations where Spark and Java are installed."
   ]
  },
  {
   "cell_type": "code",
   "execution_count": null,
   "metadata": {
    "colab": {},
    "colab_type": "code",
    "id": "8Xnb_ePUyQIL"
   },
   "outputs": [],
   "source": [
    "import os\n",
    "os.environ[\"JAVA_HOME\"] = \"/usr/lib/jvm/java-8-openjdk-amd64\"\n",
    "os.environ[\"SPARK_HOME\"] = \"/content/spark-2.4.2-bin-hadoop2.7\""
   ]
  },
  {
   "cell_type": "markdown",
   "metadata": {
    "colab_type": "text",
    "id": "NwU28K5f1H3P"
   },
   "source": [
    "# Start a SparkSession\n",
    "This will start a local Spark session."
   ]
  },
  {
   "cell_type": "code",
   "execution_count": 4,
   "metadata": {
    "colab": {
     "base_uri": "https://localhost:8080/",
     "height": 34
    },
    "colab_type": "code",
    "id": "3NyDBHg6HKjw",
    "outputId": "ab29e74c-6a10-4c13-f496-c4e69bbc99e2"
   },
   "outputs": [
    {
     "name": "stdout",
     "output_type": "stream",
     "text": [
      "Overwriting ./ldskafkacopy.py\n"
     ]
    }
   ],
   "source": [
    "%%writefile ./ldskafkacopy.py\n",
    "from pyspark.sql import SparkSession\n",
    "from pyspark.sql.functions import explode\n",
    "from pyspark.sql.functions import *\n",
    "\n",
    "\n",
    "spark = SparkSession \\\n",
    "    .builder \\\n",
    "    .appName(\"StructuredNetworkWordCount\") \\\n",
    "    .getOrCreate()\n",
    "spark.sparkContext.setLogLevel('FATAL')\n",
    "\n",
    "df = spark \\\n",
    "  .readStream \\\n",
    "  .format(\"kafka\") \\\n",
    "  .option(\"kafka.bootstrap.servers\", \"35.243.144.79:9092\") \\\n",
    "  .option(\"subscribe\", \"tweepyv1\") \\\n",
    "  .option(\"startingOffsets\", \"latest\") \\\n",
    "  .option(\"failOnDataLoss\", \"false\") \\\n",
    "  .load()\n",
    "\n",
    "#   .option(\"startingOffsets\", \"earlest\") \\\n",
    "\n",
    "df.selectExpr(\"CAST(key AS STRING)\", \"CAST(value AS STRING)\")\n",
    "\n",
    "print(df.isStreaming, \"Start receiving ... ...\")\n",
    "\n",
    "df.createOrReplaceTempView(\"pre\");\n",
    "df = spark.sql(\"\"\"select get_json_object(decode(value, 'utf-8'), '$.entities') \n",
    "                    as entities, timestamp from pre\"\"\");\n",
    "\n",
    "\n",
    "df.createOrReplaceTempView(\"tag\");\n",
    "df = spark.sql(\"\"\"select get_json_object(entities, '$.hashtags[0].text') as hashtag, timestamp \n",
    "                    from tag \n",
    "                    where length(get_json_object(entities, '$.hashtags[0].text')) > 2\"\"\");\n",
    "\n",
    "\n",
    "df.createOrReplaceTempView(\"win\");\n",
    "# df = spark.sql(\"\"\"\n",
    "# select hashtag as key, count(*) as value, now()\n",
    "# from win\n",
    "# group by window(timestamp, \"10 seconds\", \"5 seconds\"), hashtag\n",
    "# \"\"\")\n",
    "\n",
    "df = spark.sql(\"\"\"\n",
    "select concat_ws(' ', hashtag, string(count(*))) as value, now() as key\n",
    "from win\n",
    "group by window(timestamp, \"10 seconds\", \"5 seconds\"), hashtag\n",
    "\"\"\")\n",
    "\n",
    "df1 = spark.sql(\"\"\"\n",
    "select concat_ws(' ', hashtag, string(count(*))) as value, now() as key\n",
    "from win\n",
    "group by window(timestamp, \"10 seconds\", \"5 seconds\"), hashtag\n",
    "\"\"\")\n",
    "\n",
    "\n",
    "\n",
    "# windowedCounts = df.groupBy(\n",
    "#         window(df.timestamp, \"5 seconds\", \"5 seconds\"),\n",
    "#         df.hashtag\n",
    "# ).count();\n",
    "\n",
    "# windowedCounts.printSchema();\n",
    "\n",
    "# df.createOrReplaceTempView(\"res\");\n",
    "\n",
    "# df = spark.sql(\"select hashtag as key, count as value from res\");\n",
    "\n",
    "\n",
    "\"\"\"\n",
    "Write to Console\n",
    "\"\"\"\n",
    "# query1 = df \\\n",
    "#     .writeStream \\\n",
    "#     .outputMode(\"update\") \\\n",
    "#     .format(\"console\") \\\n",
    "#     .option(\"truncate\", \"False\") \\\n",
    "#     .option(\"checkpointLocation\", \"./log\") \\\n",
    "#     .start()\n",
    "\n",
    "\"\"\"\n",
    "Write to kafka\n",
    "\"\"\"\n",
    "query1 = df \\\n",
    "  .selectExpr(\"CAST(key AS STRING)\", \"CAST(value AS STRING)\") \\\n",
    "  .writeStream \\\n",
    "  .format(\"kafka\") \\\n",
    "  .outputMode(\"update\") \\\n",
    "  .option(\"kafka.bootstrap.servers\", \"35.243.144.79:9092\") \\\n",
    "  .option(\"topic\", \"topk1\") \\\n",
    "  .option(\"checkpointLocation\", \"./logcopy\") \\\n",
    "  .start()\n",
    "\n",
    "query2 = df1 \\\n",
    "  .selectExpr(\"CAST(key AS STRING)\", \"CAST(value AS STRING)\") \\\n",
    "  .writeStream \\\n",
    "  .format(\"kafka\") \\\n",
    "  .outputMode(\"update\") \\\n",
    "  .option(\"kafka.bootstrap.servers\", \"35.243.144.79:9092\") \\\n",
    "  .option(\"topic\", \"topk1\") \\\n",
    "  .option(\"checkpointLocation\", \"./log2copy\") \\\n",
    "  .start()\n",
    "\n",
    "query1.awaitTermination()\n",
    "query2.awaitTermination()"
   ]
  },
  {
   "cell_type": "code",
   "execution_count": 5,
   "metadata": {
    "colab": {
     "base_uri": "https://localhost:8080/",
     "height": 1392
    },
    "colab_type": "code",
    "id": "kSnvAWZ_HKge",
    "outputId": "984eb444-16d6-4c4e-9401-e8f7d678128b"
   },
   "outputs": [
    {
     "name": "stdout",
     "output_type": "stream",
     "text": [
      "Ivy Default Cache set to: /home/jovyan/.ivy2/cache\n",
      "The jars for the packages stored in: /home/jovyan/.ivy2/jars\n",
      ":: loading settings :: url = jar:file:/usr/local/spark-2.4.2-bin-hadoop2.7/jars/ivy-2.4.0.jar!/org/apache/ivy/core/settings/ivysettings.xml\n",
      "org.apache.spark#spark-sql-kafka-0-10_2.12 added as a dependency\n",
      ":: resolving dependencies :: org.apache.spark#spark-submit-parent-51bec104-515c-479f-98ea-20a0a0d49be0;1.0\n",
      "\tconfs: [default]\n",
      "\tfound org.apache.spark#spark-sql-kafka-0-10_2.12;2.4.2 in central\n",
      "\tfound org.apache.kafka#kafka-clients;2.0.0 in central\n",
      "\tfound org.lz4#lz4-java;1.4.0 in central\n",
      "\tfound org.xerial.snappy#snappy-java;1.1.7.3 in central\n",
      "\tfound org.slf4j#slf4j-api;1.7.16 in central\n",
      "\tfound org.spark-project.spark#unused;1.0.0 in central\n",
      ":: resolution report :: resolve 507ms :: artifacts dl 9ms\n",
      "\t:: modules in use:\n",
      "\torg.apache.kafka#kafka-clients;2.0.0 from central in [default]\n",
      "\torg.apache.spark#spark-sql-kafka-0-10_2.12;2.4.2 from central in [default]\n",
      "\torg.lz4#lz4-java;1.4.0 from central in [default]\n",
      "\torg.slf4j#slf4j-api;1.7.16 from central in [default]\n",
      "\torg.spark-project.spark#unused;1.0.0 from central in [default]\n",
      "\torg.xerial.snappy#snappy-java;1.1.7.3 from central in [default]\n",
      "\t---------------------------------------------------------------------\n",
      "\t|                  |            modules            ||   artifacts   |\n",
      "\t|       conf       | number| search|dwnlded|evicted|| number|dwnlded|\n",
      "\t---------------------------------------------------------------------\n",
      "\t|      default     |   6   |   0   |   0   |   0   ||   6   |   0   |\n",
      "\t---------------------------------------------------------------------\n",
      ":: retrieving :: org.apache.spark#spark-submit-parent-51bec104-515c-479f-98ea-20a0a0d49be0\n",
      "\tconfs: [default]\n",
      "\t0 artifacts copied, 6 already retrieved (0kB/7ms)\n",
      "19/04/30 23:39:46 WARN NativeCodeLoader: Unable to load native-hadoop library for your platform... using builtin-java classes where applicable\n",
      "Using Spark's default log4j profile: org/apache/spark/log4j-defaults.properties\n",
      "19/04/30 23:39:48 INFO SparkContext: Running Spark version 2.4.2\n",
      "19/04/30 23:39:48 INFO SparkContext: Submitted application: StructuredNetworkWordCount\n",
      "19/04/30 23:39:48 INFO SecurityManager: Changing view acls to: jovyan\n",
      "19/04/30 23:39:48 INFO SecurityManager: Changing modify acls to: jovyan\n",
      "19/04/30 23:39:48 INFO SecurityManager: Changing view acls groups to: \n",
      "19/04/30 23:39:48 INFO SecurityManager: Changing modify acls groups to: \n",
      "19/04/30 23:39:48 INFO SecurityManager: SecurityManager: authentication disabled; ui acls disabled; users  with view permissions: Set(jovyan); groups with view permissions: Set(); users  with modify permissions: Set(jovyan); groups with modify permissions: Set()\n",
      "19/04/30 23:39:49 INFO Utils: Successfully started service 'sparkDriver' on port 38633.\n",
      "19/04/30 23:39:49 INFO SparkEnv: Registering MapOutputTracker\n",
      "19/04/30 23:39:49 INFO SparkEnv: Registering BlockManagerMaster\n",
      "19/04/30 23:39:49 INFO BlockManagerMasterEndpoint: Using org.apache.spark.storage.DefaultTopologyMapper for getting topology information\n",
      "19/04/30 23:39:49 INFO BlockManagerMasterEndpoint: BlockManagerMasterEndpoint up\n",
      "19/04/30 23:39:49 INFO DiskBlockManager: Created local directory at /tmp/blockmgr-8371a255-d2dd-44fc-9367-a91f0bcf45b2\n",
      "19/04/30 23:39:49 INFO MemoryStore: MemoryStore started with capacity 366.3 MB\n",
      "19/04/30 23:39:49 INFO SparkEnv: Registering OutputCommitCoordinator\n",
      "19/04/30 23:39:50 INFO Utils: Successfully started service 'SparkUI' on port 4040.\n",
      "19/04/30 23:39:50 INFO SparkUI: Bound SparkUI to 0.0.0.0, and started at http://15460f57c260:4040\n",
      "19/04/30 23:39:50 INFO SparkContext: Added JAR file:///home/jovyan/.ivy2/jars/org.apache.spark_spark-sql-kafka-0-10_2.12-2.4.2.jar at spark://15460f57c260:38633/jars/org.apache.spark_spark-sql-kafka-0-10_2.12-2.4.2.jar with timestamp 1556667590399\n",
      "19/04/30 23:39:50 INFO SparkContext: Added JAR file:///home/jovyan/.ivy2/jars/org.apache.kafka_kafka-clients-2.0.0.jar at spark://15460f57c260:38633/jars/org.apache.kafka_kafka-clients-2.0.0.jar with timestamp 1556667590400\n",
      "19/04/30 23:39:50 INFO SparkContext: Added JAR file:///home/jovyan/.ivy2/jars/org.spark-project.spark_unused-1.0.0.jar at spark://15460f57c260:38633/jars/org.spark-project.spark_unused-1.0.0.jar with timestamp 1556667590400\n",
      "19/04/30 23:39:50 INFO SparkContext: Added JAR file:///home/jovyan/.ivy2/jars/org.lz4_lz4-java-1.4.0.jar at spark://15460f57c260:38633/jars/org.lz4_lz4-java-1.4.0.jar with timestamp 1556667590400\n",
      "19/04/30 23:39:50 INFO SparkContext: Added JAR file:///home/jovyan/.ivy2/jars/org.xerial.snappy_snappy-java-1.1.7.3.jar at spark://15460f57c260:38633/jars/org.xerial.snappy_snappy-java-1.1.7.3.jar with timestamp 1556667590400\n",
      "19/04/30 23:39:50 INFO SparkContext: Added JAR file:///home/jovyan/.ivy2/jars/org.slf4j_slf4j-api-1.7.16.jar at spark://15460f57c260:38633/jars/org.slf4j_slf4j-api-1.7.16.jar with timestamp 1556667590400\n",
      "19/04/30 23:39:50 INFO SparkContext: Added file file:///home/jovyan/.ivy2/jars/org.apache.spark_spark-sql-kafka-0-10_2.12-2.4.2.jar at file:///home/jovyan/.ivy2/jars/org.apache.spark_spark-sql-kafka-0-10_2.12-2.4.2.jar with timestamp 1556667590419\n",
      "19/04/30 23:39:50 INFO Utils: Copying /home/jovyan/.ivy2/jars/org.apache.spark_spark-sql-kafka-0-10_2.12-2.4.2.jar to /tmp/spark-125efeaf-8380-4d3d-95a8-c49fac972c19/userFiles-b40b01b3-e477-421b-8ed9-850849ae7a9d/org.apache.spark_spark-sql-kafka-0-10_2.12-2.4.2.jar\n",
      "19/04/30 23:39:50 INFO SparkContext: Added file file:///home/jovyan/.ivy2/jars/org.apache.kafka_kafka-clients-2.0.0.jar at file:///home/jovyan/.ivy2/jars/org.apache.kafka_kafka-clients-2.0.0.jar with timestamp 1556667590476\n",
      "19/04/30 23:39:50 INFO Utils: Copying /home/jovyan/.ivy2/jars/org.apache.kafka_kafka-clients-2.0.0.jar to /tmp/spark-125efeaf-8380-4d3d-95a8-c49fac972c19/userFiles-b40b01b3-e477-421b-8ed9-850849ae7a9d/org.apache.kafka_kafka-clients-2.0.0.jar\n",
      "19/04/30 23:39:50 INFO SparkContext: Added file file:///home/jovyan/.ivy2/jars/org.spark-project.spark_unused-1.0.0.jar at file:///home/jovyan/.ivy2/jars/org.spark-project.spark_unused-1.0.0.jar with timestamp 1556667590495\n",
      "19/04/30 23:39:50 INFO Utils: Copying /home/jovyan/.ivy2/jars/org.spark-project.spark_unused-1.0.0.jar to /tmp/spark-125efeaf-8380-4d3d-95a8-c49fac972c19/userFiles-b40b01b3-e477-421b-8ed9-850849ae7a9d/org.spark-project.spark_unused-1.0.0.jar\n",
      "19/04/30 23:39:50 INFO SparkContext: Added file file:///home/jovyan/.ivy2/jars/org.lz4_lz4-java-1.4.0.jar at file:///home/jovyan/.ivy2/jars/org.lz4_lz4-java-1.4.0.jar with timestamp 1556667590505\n",
      "19/04/30 23:39:50 INFO Utils: Copying /home/jovyan/.ivy2/jars/org.lz4_lz4-java-1.4.0.jar to /tmp/spark-125efeaf-8380-4d3d-95a8-c49fac972c19/userFiles-b40b01b3-e477-421b-8ed9-850849ae7a9d/org.lz4_lz4-java-1.4.0.jar\n",
      "19/04/30 23:39:50 INFO SparkContext: Added file file:///home/jovyan/.ivy2/jars/org.xerial.snappy_snappy-java-1.1.7.3.jar at file:///home/jovyan/.ivy2/jars/org.xerial.snappy_snappy-java-1.1.7.3.jar with timestamp 1556667590516\n",
      "19/04/30 23:39:50 INFO Utils: Copying /home/jovyan/.ivy2/jars/org.xerial.snappy_snappy-java-1.1.7.3.jar to /tmp/spark-125efeaf-8380-4d3d-95a8-c49fac972c19/userFiles-b40b01b3-e477-421b-8ed9-850849ae7a9d/org.xerial.snappy_snappy-java-1.1.7.3.jar\n",
      "19/04/30 23:39:50 INFO SparkContext: Added file file:///home/jovyan/.ivy2/jars/org.slf4j_slf4j-api-1.7.16.jar at file:///home/jovyan/.ivy2/jars/org.slf4j_slf4j-api-1.7.16.jar with timestamp 1556667590535\n",
      "19/04/30 23:39:50 INFO Utils: Copying /home/jovyan/.ivy2/jars/org.slf4j_slf4j-api-1.7.16.jar to /tmp/spark-125efeaf-8380-4d3d-95a8-c49fac972c19/userFiles-b40b01b3-e477-421b-8ed9-850849ae7a9d/org.slf4j_slf4j-api-1.7.16.jar\n",
      "19/04/30 23:39:50 INFO Executor: Starting executor ID driver on host localhost\n",
      "19/04/30 23:39:50 INFO Utils: Successfully started service 'org.apache.spark.network.netty.NettyBlockTransferService' on port 46689.\n",
      "19/04/30 23:39:50 INFO NettyBlockTransferService: Server created on 15460f57c260:46689\n",
      "19/04/30 23:39:50 INFO BlockManager: Using org.apache.spark.storage.RandomBlockReplicationPolicy for block replication policy\n",
      "19/04/30 23:39:50 INFO BlockManagerMaster: Registering BlockManager BlockManagerId(driver, 15460f57c260, 46689, None)\n",
      "19/04/30 23:39:50 INFO BlockManagerMasterEndpoint: Registering block manager 15460f57c260:46689 with 366.3 MB RAM, BlockManagerId(driver, 15460f57c260, 46689, None)\n",
      "19/04/30 23:39:50 INFO BlockManagerMaster: Registered BlockManager BlockManagerId(driver, 15460f57c260, 46689, None)\n",
      "19/04/30 23:39:50 INFO BlockManager: Initialized BlockManager: BlockManagerId(driver, 15460f57c260, 46689, None)\n",
      "19/04/30 23:39:51 INFO SharedState: Setting hive.metastore.warehouse.dir ('null') to the value of spark.sql.warehouse.dir ('file:/home/jovyan/work/Twitter_Stream_Processing/spark-warehouse/').\n",
      "19/04/30 23:39:51 INFO SharedState: Warehouse path is 'file:/home/jovyan/work/Twitter_Stream_Processing/spark-warehouse/'.\n",
      "19/04/30 23:39:52 INFO StateStoreCoordinatorRef: Registered StateStoreCoordinator endpoint\n",
      "True Start receiving ... ...\n",
      "^C\n",
      "Traceback (most recent call last):\n",
      "  File \"/home/jovyan/work/Twitter_Stream_Processing/ldskafkacopy.py\", line 105, in <module>\n",
      "    query1.awaitTermination()\n",
      "  File \"/usr/local/spark/python/lib/pyspark.zip/pyspark/sql/streaming.py\", line 103, in awaitTermination\n",
      "  File \"/usr/local/spark/python/lib/py4j-0.10.7-src.zip/py4j/java_gateway.py\", line 1255, in __call__\n",
      "  File \"/usr/local/spark/python/lib/py4j-0.10.7-src.zip/py4j/java_gateway.py\", line 985, in send_command\n",
      "  File \"/usr/local/spark/python/lib/py4j-0.10.7-src.zip/py4j/java_gateway.py\", line 1152, in send_command\n",
      "  File \"/opt/conda/lib/python3.7/socket.py\", line 589, in readinto\n",
      "    return self._sock.recv_into(b)\n",
      "  File \"/usr/local/spark/python/lib/pyspark.zip/pyspark/context.py\", line 270, in signal_handler\n",
      "KeyboardInterrupt\n"
     ]
    }
   ],
   "source": [
    "!./spark-2.4.2-bin-hadoop2.7/bin/spark-submit --packages org.apache.spark:spark-sql-kafka-0-10_2.12:2.4.2 ldskafkacopy.py"
   ]
  },
  {
   "cell_type": "code",
   "execution_count": null,
   "metadata": {
    "colab": {},
    "colab_type": "code",
    "id": "HQwC6yY5NxE8"
   },
   "outputs": [],
   "source": []
  }
 ],
 "metadata": {
  "accelerator": "GPU",
  "colab": {
   "collapsed_sections": [],
   "include_colab_link": true,
   "name": "PySpark_Structured_Streaming.ipynb",
   "provenance": [],
   "toc_visible": true,
   "version": "0.3.2"
  },
  "kernelspec": {
   "display_name": "Python 3",
   "language": "python",
   "name": "python3"
  },
  "language_info": {
   "codemirror_mode": {
    "name": "ipython",
    "version": 3
   },
   "file_extension": ".py",
   "mimetype": "text/x-python",
   "name": "python",
   "nbconvert_exporter": "python",
   "pygments_lexer": "ipython3",
   "version": "3.7.3"
  }
 },
 "nbformat": 4,
 "nbformat_minor": 2
}
