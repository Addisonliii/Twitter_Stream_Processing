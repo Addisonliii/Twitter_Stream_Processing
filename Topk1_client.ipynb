{
 "cells": [
  {
   "cell_type": "markdown",
   "metadata": {
    "colab_type": "text",
    "id": "view-in-github"
   },
   "source": [
    "<a href=\"https://colab.research.google.com/github/zw2497/Twitter_Stream_Processing/blob/master/PySpark_Structured_Streaming.ipynb\" target=\"_parent\"><img src=\"https://colab.research.google.com/assets/colab-badge.svg\" alt=\"Open In Colab\"/></a>"
   ]
  },
  {
   "cell_type": "markdown",
   "metadata": {
    "colab_type": "text",
    "id": "kvD4HBMi0ohY"
   },
   "source": [
    "# Install Java, Spark, and Findspark\n",
    "This installs Apache Spark 2.4.0, Java 8, and [Findspark](https://github.com/minrk/findspark), a library that makes it easy for Python to find Spark."
   ]
  },
  {
   "cell_type": "code",
   "execution_count": 1,
   "metadata": {
    "colab": {
     "base_uri": "https://localhost:8080/",
     "height": 63
    },
    "colab_type": "code",
    "id": "fUhBhrGmyAvs",
    "outputId": "8696e6f2-1e81-48d1-f63d-c289857c58af"
   },
   "outputs": [],
   "source": [
    "# !apt-get install openjdk-8-jdk-headless -qq > /dev/null\n",
    "!wget -q https://www-us.apache.org/dist/spark/spark-2.4.2/spark-2.4.2-bin-hadoop2.7.tgz\n",
    "!tar xf spark-2.4.2-bin-hadoop2.7.tgz\n",
    "# !pip -q install findspark"
   ]
  },
  {
   "cell_type": "markdown",
   "metadata": {
    "colab_type": "text",
    "id": "b4Kjvk_h1AHl"
   },
   "source": [
    "#### Set Environment Variables\n",
    "Set the locations where Spark and Java are installed."
   ]
  },
  {
   "cell_type": "code",
   "execution_count": null,
   "metadata": {
    "colab": {},
    "colab_type": "code",
    "id": "8Xnb_ePUyQIL"
   },
   "outputs": [],
   "source": [
    "import os\n",
    "os.environ[\"JAVA_HOME\"] = \"/usr/lib/jvm/java-8-openjdk-amd64\"\n",
    "os.environ[\"SPARK_HOME\"] = \"/content/spark-2.4.2-bin-hadoop2.7\""
   ]
  },
  {
   "cell_type": "markdown",
   "metadata": {
    "colab_type": "text",
    "id": "NwU28K5f1H3P"
   },
   "source": [
    "# Start a SparkSession\n",
    "This will start a local Spark session."
   ]
  },
  {
   "cell_type": "code",
   "execution_count": 32,
   "metadata": {
    "colab": {
     "base_uri": "https://localhost:8080/",
     "height": 34
    },
    "colab_type": "code",
    "id": "3NyDBHg6HKjw",
    "outputId": "ab29e74c-6a10-4c13-f496-c4e69bbc99e2"
   },
   "outputs": [
    {
     "name": "stdout",
     "output_type": "stream",
     "text": [
      "Overwriting ./ldskafkaclient.py\n"
     ]
    }
   ],
   "source": [
    "%%writefile ./ldskafkaclient.py\n",
    "from pyspark.sql import SparkSession\n",
    "from pyspark.sql.functions import explode\n",
    "from pyspark.sql.functions import *\n",
    "\n",
    "\n",
    "spark = SparkSession \\\n",
    "    .builder \\\n",
    "    .appName(\"StructuredNetworkWordCount\") \\\n",
    "    .getOrCreate()\n",
    "spark.sparkContext.setLogLevel('FATAL')\n",
    "\n",
    "df = spark \\\n",
    "  .readStream \\\n",
    "  .format(\"kafka\") \\\n",
    "  .option(\"kafka.bootstrap.servers\", \"35.243.144.79:9092\") \\\n",
    "  .option(\"subscribe\", \"tweepyv1\") \\\n",
    "  .option(\"startingOffsets\", \"latest\") \\\n",
    "  .option(\"failOnDataLoss\", \"false\") \\\n",
    "  .load()\n",
    "\n",
    "\n",
    "df.selectExpr(\"CAST(key AS STRING)\", \"CAST(value AS STRING)\")\n",
    "\n",
    "print(\"The data type is stream: \", df.isStreaming, \" Start receiving ... ...\")\n",
    "print(dir(df))\n",
    "\n",
    "df.createOrReplaceTempView(\"pre\");\n",
    "df = spark.sql(\n",
    "    \"\"\"select get_json_object(decode(value, 'utf-8'), '$.source') as key, count(*) as value\n",
    "        from pre\n",
    "        group by get_json_object(decode(value, 'utf-8'), '$.source')\n",
    "        order by value DESC\"\"\");\n",
    "\n",
    "# df.createOrReplaceTempView(\"pre\");\n",
    "# df = spark.sql(\n",
    "#     \"\"\"select regexp_extract(get_json_object(decode(value, 'utf-8'), '$.source'), \"[^>]*>([^<]*)<[^<]\", 1) as source, count(*) as count\n",
    "#         from pre\n",
    "#         group by regexp_extract(get_json_object(decode(value, 'utf-8'), '$.source'), \"[^>]*>([^<]*)<[^<]\", 1)\n",
    "#         order by count DESC\"\"\");\n",
    "\n",
    "\n",
    "# df.createOrReplaceTempView(\"tag\");\n",
    "# df = spark.sql(\"\"\"select get_json_object(entities, '$.hashtags[0].text') as hashtag, timestamp \n",
    "#                     from tag \n",
    "#                     where length(get_json_object(entities, '$.hashtags[0].text')) > 2\"\"\");\n",
    "\n",
    "\n",
    "# df.createOrReplaceTempView(\"win\");\n",
    "# df = spark.sql(\"\"\"\n",
    "# select concat_ws(' ', hashtag, string(count(*))) as value, now() as key\n",
    "# from win\n",
    "# group by window(timestamp, \"10 seconds\", \"5 seconds\"), hashtag\n",
    "# \"\"\")\n",
    "\n",
    "\n",
    "\n",
    "\n",
    "\n",
    "\n",
    "\"\"\"\n",
    "Write to Console\n",
    "\"\"\"\n",
    "# query1 = df \\\n",
    "#     .writeStream \\\n",
    "#     .outputMode(\"complete\") \\\n",
    "#     .format(\"console\") \\\n",
    "#     .option(\"truncate\", \"False\") \\\n",
    "#     .option(\"checkpointLocation\", \"./logclient\") \\\n",
    "#     .start()\n",
    "\n",
    "\"\"\"\n",
    "Write to kafka\n",
    "\"\"\"\n",
    "query1 = df \\\n",
    "  .selectExpr(\"CAST(key AS STRING)\", \"CAST(value AS STRING)\") \\\n",
    "  .writeStream \\\n",
    "  .format(\"kafka\") \\\n",
    "  .outputMode(\"complete\") \\\n",
    "  .option(\"kafka.bootstrap.servers\", \"35.243.144.79:9092\") \\\n",
    "  .option(\"topic\", \"source\") \\\n",
    "  .option(\"checkpointLocation\", \"./logclient\") \\\n",
    "  .start()\n",
    "\n",
    "query1.awaitTermination()"
   ]
  },
  {
   "cell_type": "code",
   "execution_count": null,
   "metadata": {
    "colab": {
     "base_uri": "https://localhost:8080/",
     "height": 1392
    },
    "colab_type": "code",
    "id": "kSnvAWZ_HKge",
    "outputId": "984eb444-16d6-4c4e-9401-e8f7d678128b"
   },
   "outputs": [
    {
     "name": "stdout",
     "output_type": "stream",
     "text": [
      "Ivy Default Cache set to: /home/jovyan/.ivy2/cache\n",
      "The jars for the packages stored in: /home/jovyan/.ivy2/jars\n",
      ":: loading settings :: url = jar:file:/usr/local/spark-2.4.2-bin-hadoop2.7/jars/ivy-2.4.0.jar!/org/apache/ivy/core/settings/ivysettings.xml\n",
      "org.apache.spark#spark-sql-kafka-0-10_2.12 added as a dependency\n",
      ":: resolving dependencies :: org.apache.spark#spark-submit-parent-ace7b27d-4c9e-45a7-84a1-63cde34d12c3;1.0\n",
      "\tconfs: [default]\n",
      "\tfound org.apache.spark#spark-sql-kafka-0-10_2.12;2.4.2 in central\n",
      "\tfound org.apache.kafka#kafka-clients;2.0.0 in central\n",
      "\tfound org.lz4#lz4-java;1.4.0 in central\n",
      "\tfound org.xerial.snappy#snappy-java;1.1.7.3 in central\n",
      "\tfound org.slf4j#slf4j-api;1.7.16 in central\n",
      "\tfound org.spark-project.spark#unused;1.0.0 in central\n",
      ":: resolution report :: resolve 1043ms :: artifacts dl 28ms\n",
      "\t:: modules in use:\n",
      "\torg.apache.kafka#kafka-clients;2.0.0 from central in [default]\n",
      "\torg.apache.spark#spark-sql-kafka-0-10_2.12;2.4.2 from central in [default]\n",
      "\torg.lz4#lz4-java;1.4.0 from central in [default]\n",
      "\torg.slf4j#slf4j-api;1.7.16 from central in [default]\n",
      "\torg.spark-project.spark#unused;1.0.0 from central in [default]\n",
      "\torg.xerial.snappy#snappy-java;1.1.7.3 from central in [default]\n",
      "\t---------------------------------------------------------------------\n",
      "\t|                  |            modules            ||   artifacts   |\n",
      "\t|       conf       | number| search|dwnlded|evicted|| number|dwnlded|\n",
      "\t---------------------------------------------------------------------\n",
      "\t|      default     |   6   |   0   |   0   |   0   ||   6   |   0   |\n",
      "\t---------------------------------------------------------------------\n",
      ":: retrieving :: org.apache.spark#spark-submit-parent-ace7b27d-4c9e-45a7-84a1-63cde34d12c3\n",
      "\tconfs: [default]\n",
      "\t0 artifacts copied, 6 already retrieved (0kB/11ms)\n",
      "19/04/29 01:22:32 WARN NativeCodeLoader: Unable to load native-hadoop library for your platform... using builtin-java classes where applicable\n",
      "Using Spark's default log4j profile: org/apache/spark/log4j-defaults.properties\n",
      "19/04/29 01:22:35 INFO SparkContext: Running Spark version 2.4.2\n",
      "19/04/29 01:22:35 INFO SparkContext: Submitted application: StructuredNetworkWordCount\n",
      "19/04/29 01:22:35 INFO SecurityManager: Changing view acls to: jovyan\n",
      "19/04/29 01:22:35 INFO SecurityManager: Changing modify acls to: jovyan\n",
      "19/04/29 01:22:35 INFO SecurityManager: Changing view acls groups to: \n",
      "19/04/29 01:22:35 INFO SecurityManager: Changing modify acls groups to: \n",
      "19/04/29 01:22:35 INFO SecurityManager: SecurityManager: authentication disabled; ui acls disabled; users  with view permissions: Set(jovyan); groups with view permissions: Set(); users  with modify permissions: Set(jovyan); groups with modify permissions: Set()\n",
      "19/04/29 01:22:36 INFO Utils: Successfully started service 'sparkDriver' on port 45043.\n",
      "19/04/29 01:22:36 INFO SparkEnv: Registering MapOutputTracker\n",
      "19/04/29 01:22:37 INFO SparkEnv: Registering BlockManagerMaster\n",
      "19/04/29 01:22:37 INFO BlockManagerMasterEndpoint: Using org.apache.spark.storage.DefaultTopologyMapper for getting topology information\n",
      "19/04/29 01:22:37 INFO BlockManagerMasterEndpoint: BlockManagerMasterEndpoint up\n",
      "19/04/29 01:22:37 INFO DiskBlockManager: Created local directory at /tmp/blockmgr-6358775d-7469-4ce1-b2e9-7d8451979995\n",
      "19/04/29 01:22:37 INFO MemoryStore: MemoryStore started with capacity 366.3 MB\n",
      "19/04/29 01:22:37 INFO SparkEnv: Registering OutputCommitCoordinator\n",
      "19/04/29 01:22:38 WARN Utils: Service 'SparkUI' could not bind on port 4040. Attempting port 4041.\n",
      "19/04/29 01:22:38 INFO Utils: Successfully started service 'SparkUI' on port 4041.\n",
      "19/04/29 01:22:38 INFO SparkUI: Bound SparkUI to 0.0.0.0, and started at http://15460f57c260:4041\n",
      "19/04/29 01:22:38 INFO SparkContext: Added JAR file:///home/jovyan/.ivy2/jars/org.apache.spark_spark-sql-kafka-0-10_2.12-2.4.2.jar at spark://15460f57c260:45043/jars/org.apache.spark_spark-sql-kafka-0-10_2.12-2.4.2.jar with timestamp 1556500958660\n",
      "19/04/29 01:22:38 INFO SparkContext: Added JAR file:///home/jovyan/.ivy2/jars/org.apache.kafka_kafka-clients-2.0.0.jar at spark://15460f57c260:45043/jars/org.apache.kafka_kafka-clients-2.0.0.jar with timestamp 1556500958673\n",
      "19/04/29 01:22:38 INFO SparkContext: Added JAR file:///home/jovyan/.ivy2/jars/org.spark-project.spark_unused-1.0.0.jar at spark://15460f57c260:45043/jars/org.spark-project.spark_unused-1.0.0.jar with timestamp 1556500958673\n",
      "19/04/29 01:22:38 INFO SparkContext: Added JAR file:///home/jovyan/.ivy2/jars/org.lz4_lz4-java-1.4.0.jar at spark://15460f57c260:45043/jars/org.lz4_lz4-java-1.4.0.jar with timestamp 1556500958673\n",
      "19/04/29 01:22:38 INFO SparkContext: Added JAR file:///home/jovyan/.ivy2/jars/org.xerial.snappy_snappy-java-1.1.7.3.jar at spark://15460f57c260:45043/jars/org.xerial.snappy_snappy-java-1.1.7.3.jar with timestamp 1556500958673\n",
      "19/04/29 01:22:38 INFO SparkContext: Added JAR file:///home/jovyan/.ivy2/jars/org.slf4j_slf4j-api-1.7.16.jar at spark://15460f57c260:45043/jars/org.slf4j_slf4j-api-1.7.16.jar with timestamp 1556500958674\n",
      "19/04/29 01:22:38 INFO SparkContext: Added file file:///home/jovyan/.ivy2/jars/org.apache.spark_spark-sql-kafka-0-10_2.12-2.4.2.jar at file:///home/jovyan/.ivy2/jars/org.apache.spark_spark-sql-kafka-0-10_2.12-2.4.2.jar with timestamp 1556500958760\n",
      "19/04/29 01:22:38 INFO Utils: Copying /home/jovyan/.ivy2/jars/org.apache.spark_spark-sql-kafka-0-10_2.12-2.4.2.jar to /tmp/spark-ee35c75d-611d-411b-85ff-ce1103aa9db6/userFiles-6902d052-d2bf-4944-b1f4-edaa15771cbc/org.apache.spark_spark-sql-kafka-0-10_2.12-2.4.2.jar\n",
      "19/04/29 01:22:38 INFO SparkContext: Added file file:///home/jovyan/.ivy2/jars/org.apache.kafka_kafka-clients-2.0.0.jar at file:///home/jovyan/.ivy2/jars/org.apache.kafka_kafka-clients-2.0.0.jar with timestamp 1556500958848\n",
      "19/04/29 01:22:38 INFO Utils: Copying /home/jovyan/.ivy2/jars/org.apache.kafka_kafka-clients-2.0.0.jar to /tmp/spark-ee35c75d-611d-411b-85ff-ce1103aa9db6/userFiles-6902d052-d2bf-4944-b1f4-edaa15771cbc/org.apache.kafka_kafka-clients-2.0.0.jar\n",
      "19/04/29 01:22:38 INFO SparkContext: Added file file:///home/jovyan/.ivy2/jars/org.spark-project.spark_unused-1.0.0.jar at file:///home/jovyan/.ivy2/jars/org.spark-project.spark_unused-1.0.0.jar with timestamp 1556500958890\n",
      "19/04/29 01:22:38 INFO Utils: Copying /home/jovyan/.ivy2/jars/org.spark-project.spark_unused-1.0.0.jar to /tmp/spark-ee35c75d-611d-411b-85ff-ce1103aa9db6/userFiles-6902d052-d2bf-4944-b1f4-edaa15771cbc/org.spark-project.spark_unused-1.0.0.jar\n",
      "19/04/29 01:22:38 INFO SparkContext: Added file file:///home/jovyan/.ivy2/jars/org.lz4_lz4-java-1.4.0.jar at file:///home/jovyan/.ivy2/jars/org.lz4_lz4-java-1.4.0.jar with timestamp 1556500958905\n",
      "19/04/29 01:22:38 INFO Utils: Copying /home/jovyan/.ivy2/jars/org.lz4_lz4-java-1.4.0.jar to /tmp/spark-ee35c75d-611d-411b-85ff-ce1103aa9db6/userFiles-6902d052-d2bf-4944-b1f4-edaa15771cbc/org.lz4_lz4-java-1.4.0.jar\n",
      "19/04/29 01:22:38 INFO SparkContext: Added file file:///home/jovyan/.ivy2/jars/org.xerial.snappy_snappy-java-1.1.7.3.jar at file:///home/jovyan/.ivy2/jars/org.xerial.snappy_snappy-java-1.1.7.3.jar with timestamp 1556500958918\n",
      "19/04/29 01:22:38 INFO Utils: Copying /home/jovyan/.ivy2/jars/org.xerial.snappy_snappy-java-1.1.7.3.jar to /tmp/spark-ee35c75d-611d-411b-85ff-ce1103aa9db6/userFiles-6902d052-d2bf-4944-b1f4-edaa15771cbc/org.xerial.snappy_snappy-java-1.1.7.3.jar\n",
      "19/04/29 01:22:38 INFO SparkContext: Added file file:///home/jovyan/.ivy2/jars/org.slf4j_slf4j-api-1.7.16.jar at file:///home/jovyan/.ivy2/jars/org.slf4j_slf4j-api-1.7.16.jar with timestamp 1556500958952\n",
      "19/04/29 01:22:38 INFO Utils: Copying /home/jovyan/.ivy2/jars/org.slf4j_slf4j-api-1.7.16.jar to /tmp/spark-ee35c75d-611d-411b-85ff-ce1103aa9db6/userFiles-6902d052-d2bf-4944-b1f4-edaa15771cbc/org.slf4j_slf4j-api-1.7.16.jar\n",
      "19/04/29 01:22:39 INFO Executor: Starting executor ID driver on host localhost\n",
      "19/04/29 01:22:39 INFO Utils: Successfully started service 'org.apache.spark.network.netty.NettyBlockTransferService' on port 45201.\n",
      "19/04/29 01:22:39 INFO NettyBlockTransferService: Server created on 15460f57c260:45201\n",
      "19/04/29 01:22:39 INFO BlockManager: Using org.apache.spark.storage.RandomBlockReplicationPolicy for block replication policy\n",
      "19/04/29 01:22:39 INFO BlockManagerMaster: Registering BlockManager BlockManagerId(driver, 15460f57c260, 45201, None)\n",
      "19/04/29 01:22:39 INFO BlockManagerMasterEndpoint: Registering block manager 15460f57c260:45201 with 366.3 MB RAM, BlockManagerId(driver, 15460f57c260, 45201, None)\n",
      "19/04/29 01:22:39 INFO BlockManagerMaster: Registered BlockManager BlockManagerId(driver, 15460f57c260, 45201, None)\n",
      "19/04/29 01:22:39 INFO BlockManager: Initialized BlockManager: BlockManagerId(driver, 15460f57c260, 45201, None)\n",
      "19/04/29 01:22:41 INFO SharedState: Setting hive.metastore.warehouse.dir ('null') to the value of spark.sql.warehouse.dir ('file:/home/jovyan/work/Twitter_Stream_Processing/spark-warehouse/').\n",
      "19/04/29 01:22:41 INFO SharedState: Warehouse path is 'file:/home/jovyan/work/Twitter_Stream_Processing/spark-warehouse/'.\n",
      "19/04/29 01:22:42 INFO StateStoreCoordinatorRef: Registered StateStoreCoordinator endpoint\n",
      "The data type is stream:  True  Start receiving ... ...\n",
      "['__class__', '__delattr__', '__dict__', '__dir__', '__doc__', '__eq__', '__format__', '__ge__', '__getattr__', '__getattribute__', '__getitem__', '__gt__', '__hash__', '__init__', '__init_subclass__', '__le__', '__lt__', '__module__', '__ne__', '__new__', '__reduce__', '__reduce_ex__', '__repr__', '__setattr__', '__sizeof__', '__str__', '__subclasshook__', '__weakref__', '_collectAsArrow', '_jcols', '_jdf', '_jmap', '_jseq', '_lazy_rdd', '_repr_html_', '_sc', '_schema', '_sort_cols', '_support_repr_html', 'agg', 'alias', 'approxQuantile', 'cache', 'checkpoint', 'coalesce', 'colRegex', 'collect', 'columns', 'corr', 'count', 'cov', 'createGlobalTempView', 'createOrReplaceGlobalTempView', 'createOrReplaceTempView', 'createTempView', 'crossJoin', 'crosstab', 'cube', 'describe', 'distinct', 'drop', 'dropDuplicates', 'drop_duplicates', 'dropna', 'dtypes', 'exceptAll', 'explain', 'fillna', 'filter', 'first', 'foreach', 'foreachPartition', 'freqItems', 'groupBy', 'groupby', 'head', 'hint', 'intersect', 'intersectAll', 'isLocal', 'isStreaming', 'is_cached', 'join', 'limit', 'localCheckpoint', 'na', 'orderBy', 'persist', 'printSchema', 'randomSplit', 'rdd', 'registerTempTable', 'repartition', 'repartitionByRange', 'replace', 'rollup', 'sample', 'sampleBy', 'schema', 'select', 'selectExpr', 'show', 'sort', 'sortWithinPartitions', 'sql_ctx', 'stat', 'storageLevel', 'subtract', 'summary', 'take', 'toDF', 'toJSON', 'toLocalIterator', 'toPandas', 'union', 'unionAll', 'unionByName', 'unpersist', 'where', 'withColumn', 'withColumnRenamed', 'withWatermark', 'write', 'writeStream']\n"
     ]
    }
   ],
   "source": [
    "!./spark-2.4.2-bin-hadoop2.7/bin/spark-submit --packages org.apache.spark:spark-sql-kafka-0-10_2.12:2.4.2 ldskafkaclient.py"
   ]
  },
  {
   "cell_type": "code",
   "execution_count": null,
   "metadata": {
    "colab": {},
    "colab_type": "code",
    "id": "HQwC6yY5NxE8"
   },
   "outputs": [],
   "source": []
  }
 ],
 "metadata": {
  "accelerator": "GPU",
  "colab": {
   "collapsed_sections": [],
   "include_colab_link": true,
   "name": "PySpark_Structured_Streaming.ipynb",
   "provenance": [],
   "toc_visible": true,
   "version": "0.3.2"
  },
  "kernelspec": {
   "display_name": "Python 3",
   "language": "python",
   "name": "python3"
  },
  "language_info": {
   "codemirror_mode": {
    "name": "ipython",
    "version": 3
   },
   "file_extension": ".py",
   "mimetype": "text/x-python",
   "name": "python",
   "nbconvert_exporter": "python",
   "pygments_lexer": "ipython3",
   "version": "3.7.3"
  }
 },
 "nbformat": 4,
 "nbformat_minor": 2
}
