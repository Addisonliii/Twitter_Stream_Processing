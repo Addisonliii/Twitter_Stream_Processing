{
  "nbformat": 4,
  "nbformat_minor": 0,
  "metadata": {
    "colab": {
      "name": "PySpark_Structured_Streaming.ipynb",
      "version": "0.3.2",
      "provenance": [],
      "collapsed_sections": [],
      "include_colab_link": true
    },
    "kernelspec": {
      "name": "python3",
      "display_name": "Python 3"
    },
    "accelerator": "GPU"
  },
  "cells": [
    {
      "cell_type": "markdown",
      "metadata": {
        "id": "view-in-github",
        "colab_type": "text"
      },
      "source": [
        "<a href=\"https://colab.research.google.com/github/zw2497/Twitter_Stream_Processing/blob/master/PySpark_Structured_Streaming.ipynb\" target=\"_parent\"><img src=\"https://colab.research.google.com/assets/colab-badge.svg\" alt=\"Open In Colab\"/></a>"
      ]
    },
    {
      "metadata": {
        "id": "kvD4HBMi0ohY",
        "colab_type": "text"
      },
      "cell_type": "markdown",
      "source": [
        "# Install Java, Spark, and Findspark\n",
        "This installs Apache Spark 2.4.0, Java 8, and [Findspark](https://github.com/minrk/findspark), a library that makes it easy for Python to find Spark."
      ]
    },
    {
      "metadata": {
        "id": "fUhBhrGmyAvs",
        "colab_type": "code",
        "colab": {}
      },
      "cell_type": "code",
      "source": [
        "!apt-get install openjdk-8-jdk-headless -qq > /dev/null\n",
        "!wget -q https://www-us.apache.org/dist/spark/spark-2.4.2/spark-2.4.2-bin-hadoop2.7.tgz\n",
        "!tar xf spark-2.4.2-bin-hadoop2.7.tgz\n",
        "# !pip -q install findspark"
      ],
      "execution_count": 0,
      "outputs": []
    },
    {
      "metadata": {
        "id": "b4Kjvk_h1AHl",
        "colab_type": "text"
      },
      "cell_type": "markdown",
      "source": [
        "#### Set Environment Variables\n",
        "Set the locations where Spark and Java are installed."
      ]
    },
    {
      "metadata": {
        "id": "8Xnb_ePUyQIL",
        "colab_type": "code",
        "colab": {}
      },
      "cell_type": "code",
      "source": [
        "import os\n",
        "os.environ[\"JAVA_HOME\"] = \"/usr/lib/jvm/java-8-openjdk-amd64\"\n",
        "os.environ[\"SPARK_HOME\"] = \"/content/spark-2.4.2-bin-hadoop2.7\""
      ],
      "execution_count": 0,
      "outputs": []
    },
    {
      "metadata": {
        "id": "NwU28K5f1H3P",
        "colab_type": "text"
      },
      "cell_type": "markdown",
      "source": [
        "# Start a SparkSession\n",
        "This will start a local Spark session."
      ]
    },
    {
      "metadata": {
        "id": "3NyDBHg6HKjw",
        "colab_type": "code",
        "outputId": "7a94c9af-6d83-4d43-ed2c-64bffdba74d5",
        "colab": {
          "base_uri": "https://localhost:8080/",
          "height": 34
        }
      },
      "cell_type": "code",
      "source": [
        "%%writefile ./kafka.py\n",
        "from pyspark.sql import SparkSession\n",
        "from pyspark.sql.functions import explode\n",
        "from pyspark.sql.functions import *\n",
        "\n",
        "\n",
        "spark = SparkSession \\\n",
        "    .builder \\\n",
        "    .appName(\"StructuredNetworkWordCount\") \\\n",
        "    .getOrCreate()\n",
        "spark.sparkContext.setLogLevel('FATAL')\n",
        "\n",
        "df = spark \\\n",
        "  .readStream \\\n",
        "  .format(\"kafka\") \\\n",
        "  .option(\"kafka.bootstrap.servers\", \"18.216.34.97:9092\") \\\n",
        "  .option(\"subscribe\", \"tweetv1\") \\\n",
        "  .option(\"startingOffsets\", \"earliest\") \\\n",
        "  .load()\n",
        "\n",
        "\n",
        "df.selectExpr(\"CAST(key AS STRING)\", \"CAST(value AS STRING)\")\n",
        "\n",
        "print(df.isStreaming, \"Start receiving ... ...\")\n",
        "\n",
        "df.createOrReplaceTempView(\"pre\");\n",
        "df = spark.sql(\"\"\"select get_json_object(decode(value, 'utf-8'), '$.entities') \n",
        "                    as entities, timestamp from pre\"\"\");\n",
        "df.createOrReplaceTempView(\"tag\");\n",
        "df = spark.sql(\"\"\"select get_json_object(entities, '$.hashtags[0].text') as hashtag, timestamp \n",
        "                    from tag \n",
        "                    where length(get_json_object(entities, '$.hashtags[0].text')) > 2\"\"\");\n",
        "\n",
        "windowedCounts = df.groupBy(\n",
        "        window(df.timestamp, \"5 seconds\", \"5 seconds\"),\n",
        "        df.hashtag\n",
        ").count();\n",
        "\n",
        "windowedCounts.printSchema();\n",
        "\n",
        "windowedCounts.createOrReplaceTempView(\"res\");\n",
        "\n",
        "df = spark.sql(\"select hashtag as key, count as value from res\");\n",
        "\n",
        "\n",
        "\"\"\"\n",
        "Write to Console\n",
        "\"\"\"\n",
        "query1 = df \\\n",
        "    .writeStream \\\n",
        "    .outputMode(\"update\") \\\n",
        "    .format(\"console\") \\\n",
        "    .option(\"truncate\", \"False\") \\\n",
        "    .option(\"checkpointLocation\", \"/content/log\") \\\n",
        "    .start()\n",
        "\n",
        "\"\"\"\n",
        "Write to kafka\n",
        "\"\"\"\n",
        "# query1 = df \\\n",
        "#   .selectExpr(\"CAST(key AS STRING)\", \"CAST(value AS STRING)\") \\\n",
        "#   .writeStream \\\n",
        "#   .format(\"kafka\") \\\n",
        "#   .outputMode(\"update\") \\\n",
        "#   .option(\"kafka.bootstrap.servers\", \"18.216.34.97:9092\") \\\n",
        "#   .option(\"topic\", \"topk\") \\\n",
        "#   .option(\"checkpointLocation\", \"/content/log\") \\\n",
        "#   .start()\n",
        "\n",
        "query1.awaitTermination()"
      ],
      "execution_count": 1,
      "outputs": [
        {
          "output_type": "stream",
          "text": [
            "Overwriting ./kafka.py\n"
          ],
          "name": "stdout"
        }
      ]
    },
    {
      "metadata": {
        "id": "kSnvAWZ_HKge",
        "colab_type": "code",
        "outputId": "75a8fa62-a1b4-4f0e-b091-325298600359",
        "colab": {
          "base_uri": "https://localhost:8080/",
          "height": 2587
        }
      },
      "cell_type": "code",
      "source": [
        "!./spark-2.4.2-bin-hadoop2.7/bin/spark-submit --packages org.apache.spark:spark-sql-kafka-0-10_2.12:2.4.2 kafka.py"
      ],
      "execution_count": 2,
      "outputs": [
        {
          "output_type": "stream",
          "text": [
            "Ivy Default Cache set to: /root/.ivy2/cache\n",
            "The jars for the packages stored in: /root/.ivy2/jars\n",
            ":: loading settings :: url = jar:file:/content/spark-2.4.2-bin-hadoop2.7/jars/ivy-2.4.0.jar!/org/apache/ivy/core/settings/ivysettings.xml\n",
            "org.apache.spark#spark-sql-kafka-0-10_2.12 added as a dependency\n",
            ":: resolving dependencies :: org.apache.spark#spark-submit-parent-112a03ec-ad6e-41f1-bf1f-76a2efe3ce2c;1.0\n",
            "\tconfs: [default]\n",
            "\tfound org.apache.spark#spark-sql-kafka-0-10_2.12;2.4.2 in central\n",
            "\tfound org.apache.kafka#kafka-clients;2.0.0 in central\n",
            "\tfound org.lz4#lz4-java;1.4.0 in central\n",
            "\tfound org.xerial.snappy#snappy-java;1.1.7.3 in central\n",
            "\tfound org.slf4j#slf4j-api;1.7.16 in central\n",
            "\tfound org.spark-project.spark#unused;1.0.0 in central\n",
            ":: resolution report :: resolve 715ms :: artifacts dl 19ms\n",
            "\t:: modules in use:\n",
            "\torg.apache.kafka#kafka-clients;2.0.0 from central in [default]\n",
            "\torg.apache.spark#spark-sql-kafka-0-10_2.12;2.4.2 from central in [default]\n",
            "\torg.lz4#lz4-java;1.4.0 from central in [default]\n",
            "\torg.slf4j#slf4j-api;1.7.16 from central in [default]\n",
            "\torg.spark-project.spark#unused;1.0.0 from central in [default]\n",
            "\torg.xerial.snappy#snappy-java;1.1.7.3 from central in [default]\n",
            "\t---------------------------------------------------------------------\n",
            "\t|                  |            modules            ||   artifacts   |\n",
            "\t|       conf       | number| search|dwnlded|evicted|| number|dwnlded|\n",
            "\t---------------------------------------------------------------------\n",
            "\t|      default     |   6   |   0   |   0   |   0   ||   6   |   0   |\n",
            "\t---------------------------------------------------------------------\n",
            ":: retrieving :: org.apache.spark#spark-submit-parent-112a03ec-ad6e-41f1-bf1f-76a2efe3ce2c\n",
            "\tconfs: [default]\n",
            "\t0 artifacts copied, 6 already retrieved (0kB/9ms)\n",
            "WARNING: An illegal reflective access operation has occurred\n",
            "WARNING: Illegal reflective access by org.apache.spark.unsafe.Platform (file:/content/spark-2.4.2-bin-hadoop2.7/jars/spark-unsafe_2.12-2.4.2.jar) to method java.nio.Bits.unaligned()\n",
            "WARNING: Please consider reporting this to the maintainers of org.apache.spark.unsafe.Platform\n",
            "WARNING: Use --illegal-access=warn to enable warnings of further illegal reflective access operations\n",
            "WARNING: All illegal access operations will be denied in a future release\n",
            "19/04/25 03:00:49 WARN NativeCodeLoader: Unable to load native-hadoop library for your platform... using builtin-java classes where applicable\n",
            "Using Spark's default log4j profile: org/apache/spark/log4j-defaults.properties\n",
            "19/04/25 03:00:51 INFO SparkContext: Running Spark version 2.4.2\n",
            "19/04/25 03:00:51 INFO SparkContext: Submitted application: StructuredNetworkWordCount\n",
            "19/04/25 03:00:51 INFO SecurityManager: Changing view acls to: root\n",
            "19/04/25 03:00:51 INFO SecurityManager: Changing modify acls to: root\n",
            "19/04/25 03:00:51 INFO SecurityManager: Changing view acls groups to: \n",
            "19/04/25 03:00:51 INFO SecurityManager: Changing modify acls groups to: \n",
            "19/04/25 03:00:51 INFO SecurityManager: SecurityManager: authentication disabled; ui acls disabled; users  with view permissions: Set(root); groups with view permissions: Set(); users  with modify permissions: Set(root); groups with modify permissions: Set()\n",
            "19/04/25 03:00:51 INFO Utils: Successfully started service 'sparkDriver' on port 37613.\n",
            "19/04/25 03:00:51 INFO SparkEnv: Registering MapOutputTracker\n",
            "19/04/25 03:00:51 INFO SparkEnv: Registering BlockManagerMaster\n",
            "19/04/25 03:00:51 INFO BlockManagerMasterEndpoint: Using org.apache.spark.storage.DefaultTopologyMapper for getting topology information\n",
            "19/04/25 03:00:51 INFO BlockManagerMasterEndpoint: BlockManagerMasterEndpoint up\n",
            "19/04/25 03:00:51 INFO DiskBlockManager: Created local directory at /tmp/blockmgr-3a2dae23-a249-4ebc-a446-2dc7828822cc\n",
            "19/04/25 03:00:51 INFO MemoryStore: MemoryStore started with capacity 434.4 MB\n",
            "19/04/25 03:00:51 INFO SparkEnv: Registering OutputCommitCoordinator\n",
            "19/04/25 03:00:52 INFO Utils: Successfully started service 'SparkUI' on port 4040.\n",
            "19/04/25 03:00:52 INFO SparkUI: Bound SparkUI to 0.0.0.0, and started at http://05c216098409:4040\n",
            "19/04/25 03:00:52 INFO SparkContext: Added JAR file:///root/.ivy2/jars/org.apache.spark_spark-sql-kafka-0-10_2.12-2.4.2.jar at spark://05c216098409:37613/jars/org.apache.spark_spark-sql-kafka-0-10_2.12-2.4.2.jar with timestamp 1556161252130\n",
            "19/04/25 03:00:52 INFO SparkContext: Added JAR file:///root/.ivy2/jars/org.apache.kafka_kafka-clients-2.0.0.jar at spark://05c216098409:37613/jars/org.apache.kafka_kafka-clients-2.0.0.jar with timestamp 1556161252131\n",
            "19/04/25 03:00:52 INFO SparkContext: Added JAR file:///root/.ivy2/jars/org.spark-project.spark_unused-1.0.0.jar at spark://05c216098409:37613/jars/org.spark-project.spark_unused-1.0.0.jar with timestamp 1556161252136\n",
            "19/04/25 03:00:52 INFO SparkContext: Added JAR file:///root/.ivy2/jars/org.lz4_lz4-java-1.4.0.jar at spark://05c216098409:37613/jars/org.lz4_lz4-java-1.4.0.jar with timestamp 1556161252137\n",
            "19/04/25 03:00:52 INFO SparkContext: Added JAR file:///root/.ivy2/jars/org.xerial.snappy_snappy-java-1.1.7.3.jar at spark://05c216098409:37613/jars/org.xerial.snappy_snappy-java-1.1.7.3.jar with timestamp 1556161252137\n",
            "19/04/25 03:00:52 INFO SparkContext: Added JAR file:///root/.ivy2/jars/org.slf4j_slf4j-api-1.7.16.jar at spark://05c216098409:37613/jars/org.slf4j_slf4j-api-1.7.16.jar with timestamp 1556161252137\n",
            "19/04/25 03:00:52 INFO SparkContext: Added file file:///root/.ivy2/jars/org.apache.spark_spark-sql-kafka-0-10_2.12-2.4.2.jar at file:///root/.ivy2/jars/org.apache.spark_spark-sql-kafka-0-10_2.12-2.4.2.jar with timestamp 1556161252166\n",
            "19/04/25 03:00:52 INFO Utils: Copying /root/.ivy2/jars/org.apache.spark_spark-sql-kafka-0-10_2.12-2.4.2.jar to /tmp/spark-343bba18-5034-456b-80a5-9d71d2f0d9c6/userFiles-72d24910-570b-487b-b939-5907ba0d5e85/org.apache.spark_spark-sql-kafka-0-10_2.12-2.4.2.jar\n",
            "19/04/25 03:00:52 INFO SparkContext: Added file file:///root/.ivy2/jars/org.apache.kafka_kafka-clients-2.0.0.jar at file:///root/.ivy2/jars/org.apache.kafka_kafka-clients-2.0.0.jar with timestamp 1556161252189\n",
            "19/04/25 03:00:52 INFO Utils: Copying /root/.ivy2/jars/org.apache.kafka_kafka-clients-2.0.0.jar to /tmp/spark-343bba18-5034-456b-80a5-9d71d2f0d9c6/userFiles-72d24910-570b-487b-b939-5907ba0d5e85/org.apache.kafka_kafka-clients-2.0.0.jar\n",
            "19/04/25 03:00:52 INFO SparkContext: Added file file:///root/.ivy2/jars/org.spark-project.spark_unused-1.0.0.jar at file:///root/.ivy2/jars/org.spark-project.spark_unused-1.0.0.jar with timestamp 1556161252200\n",
            "19/04/25 03:00:52 INFO Utils: Copying /root/.ivy2/jars/org.spark-project.spark_unused-1.0.0.jar to /tmp/spark-343bba18-5034-456b-80a5-9d71d2f0d9c6/userFiles-72d24910-570b-487b-b939-5907ba0d5e85/org.spark-project.spark_unused-1.0.0.jar\n",
            "19/04/25 03:00:52 INFO SparkContext: Added file file:///root/.ivy2/jars/org.lz4_lz4-java-1.4.0.jar at file:///root/.ivy2/jars/org.lz4_lz4-java-1.4.0.jar with timestamp 1556161252209\n",
            "19/04/25 03:00:52 INFO Utils: Copying /root/.ivy2/jars/org.lz4_lz4-java-1.4.0.jar to /tmp/spark-343bba18-5034-456b-80a5-9d71d2f0d9c6/userFiles-72d24910-570b-487b-b939-5907ba0d5e85/org.lz4_lz4-java-1.4.0.jar\n",
            "19/04/25 03:00:52 INFO SparkContext: Added file file:///root/.ivy2/jars/org.xerial.snappy_snappy-java-1.1.7.3.jar at file:///root/.ivy2/jars/org.xerial.snappy_snappy-java-1.1.7.3.jar with timestamp 1556161252218\n",
            "19/04/25 03:00:52 INFO Utils: Copying /root/.ivy2/jars/org.xerial.snappy_snappy-java-1.1.7.3.jar to /tmp/spark-343bba18-5034-456b-80a5-9d71d2f0d9c6/userFiles-72d24910-570b-487b-b939-5907ba0d5e85/org.xerial.snappy_snappy-java-1.1.7.3.jar\n",
            "19/04/25 03:00:52 INFO SparkContext: Added file file:///root/.ivy2/jars/org.slf4j_slf4j-api-1.7.16.jar at file:///root/.ivy2/jars/org.slf4j_slf4j-api-1.7.16.jar with timestamp 1556161252228\n",
            "19/04/25 03:00:52 INFO Utils: Copying /root/.ivy2/jars/org.slf4j_slf4j-api-1.7.16.jar to /tmp/spark-343bba18-5034-456b-80a5-9d71d2f0d9c6/userFiles-72d24910-570b-487b-b939-5907ba0d5e85/org.slf4j_slf4j-api-1.7.16.jar\n",
            "19/04/25 03:00:52 INFO Executor: Starting executor ID driver on host localhost\n",
            "19/04/25 03:00:52 INFO Utils: Successfully started service 'org.apache.spark.network.netty.NettyBlockTransferService' on port 39713.\n",
            "19/04/25 03:00:52 INFO NettyBlockTransferService: Server created on 05c216098409:39713\n",
            "19/04/25 03:00:52 INFO BlockManager: Using org.apache.spark.storage.RandomBlockReplicationPolicy for block replication policy\n",
            "19/04/25 03:00:52 INFO BlockManagerMaster: Registering BlockManager BlockManagerId(driver, 05c216098409, 39713, None)\n",
            "19/04/25 03:00:52 INFO BlockManagerMasterEndpoint: Registering block manager 05c216098409:39713 with 434.4 MB RAM, BlockManagerId(driver, 05c216098409, 39713, None)\n",
            "19/04/25 03:00:52 INFO BlockManagerMaster: Registered BlockManager BlockManagerId(driver, 05c216098409, 39713, None)\n",
            "19/04/25 03:00:52 INFO BlockManager: Initialized BlockManager: BlockManagerId(driver, 05c216098409, 39713, None)\n",
            "19/04/25 03:00:53 INFO SharedState: Setting hive.metastore.warehouse.dir ('null') to the value of spark.sql.warehouse.dir ('file:/content/spark-warehouse/').\n",
            "19/04/25 03:00:53 INFO SharedState: Warehouse path is 'file:/content/spark-warehouse/'.\n",
            "19/04/25 03:00:53 INFO StateStoreCoordinatorRef: Registered StateStoreCoordinator endpoint\n",
            "True Start receiving ... ...\n",
            "root\n",
            " |-- window: struct (nullable = false)\n",
            " |    |-- start: timestamp (nullable = true)\n",
            " |    |-- end: timestamp (nullable = true)\n",
            " |-- hashtag: string (nullable = true)\n",
            " |-- count: long (nullable = false)\n",
            "\n",
            "-------------------------------------------\n",
            "Batch: 54\n",
            "-------------------------------------------\n",
            "+-----------------------+-----+\n",
            "|key                    |value|\n",
            "+-----------------------+-----+\n",
            "|DoubleBRecruitingMember|1    |\n",
            "|brand                  |1    |\n",
            "|IPRAY                  |1    |\n",
            "|NYR                    |1    |\n",
            "|MentalSamurai          |1    |\n",
            "|GoCubsGo               |1    |\n",
            "|BBMAsTopSocial         |1    |\n",
            "|CounterCulture         |1    |\n",
            "|SCOTUS                 |1    |\n",
            "|game7                  |1    |\n",
            "|Threshold              |1    |\n",
            "|weloveyouturbo         |1    |\n",
            "+-----------------------+-----+\n",
            "\n",
            "-------------------------------------------\n",
            "Batch: 55\n",
            "-------------------------------------------\n",
            "+-----------------+-----+\n",
            "|key              |value|\n",
            "+-----------------+-----+\n",
            "|WATvsSF          |1    |\n",
            "|TakeWarning      |1    |\n",
            "|edusp19          |1    |\n",
            "|LasVegas         |1    |\n",
            "|undergroundhiphop|1    |\n",
            "|relaxing         |1    |\n",
            "|bakersfield      |1    |\n",
            "|UnfollowTrump    |1    |\n",
            "|party            |1    |\n",
            "|WetzelDogs       |1    |\n",
            "|toyota           |1    |\n",
            "|SantaClaritaDiet |1    |\n",
            "|LetsGoCanes      |1    |\n",
            "|BestOFLuck       |1    |\n",
            "|UFCFortLauderdale|1    |\n",
            "|WUTV             |1    |\n",
            "|SHEG             |1    |\n",
            "|ALLCAPS          |1    |\n",
            "|CARvsWSH         |1    |\n",
            "|NSMRPM           |1    |\n",
            "+-----------------+-----+\n",
            "only showing top 20 rows\n",
            "\n",
            "Traceback (most recent call last):\n",
            "  File \"/content/kafka.py\", line 69, in <module>\n",
            "    query1.awaitTermination()\n",
            "  File \"/content/spark-2.4.2-bin-hadoop2.7/python/lib/pyspark.zip/pyspark/sql/streaming.py\", line 103, in awaitTermination\n",
            "  File \"/content/spark-2.4.2-bin-hadoop2.7/python/lib/py4j-0.10.7-src.zip/py4j/java_gateway.py\", line 1255, in __call__\n",
            "  File \"/content/spark-2.4.2-bin-hadoop2.7/python/lib/py4j-0.10.7-src.zip/py4j/java_gateway.py\", line 985, in send_command\n",
            "  File \"/content/spark-2.4.2-bin-hadoop2.7/python/lib/py4j-0.10.7-src.zip/py4j/java_gateway.py\", line 1152, in send_command\n",
            "  File \"/usr/lib/python3.6/socket.py\", line 586, in readinto\n",
            "    return self._sock.recv_into(b)\n",
            "  File \"/content/spark-2.4.2-bin-hadoop2.7/python/lib/pyspark.zip/pyspark/context.py\", line 270, in signal_handler\n",
            "KeyboardInterrupt\n"
          ],
          "name": "stdout"
        }
      ]
    },
    {
      "metadata": {
        "id": "HQwC6yY5NxE8",
        "colab_type": "code",
        "colab": {}
      },
      "cell_type": "code",
      "source": [
        ""
      ],
      "execution_count": 0,
      "outputs": []
    }
  ]
}