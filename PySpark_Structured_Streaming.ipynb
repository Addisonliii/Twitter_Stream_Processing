{
  "nbformat": 4,
  "nbformat_minor": 0,
  "metadata": {
    "colab": {
      "name": "PySpark_Structured_Streaming.ipynb",
      "version": "0.3.2",
      "provenance": [],
      "collapsed_sections": [],
      "toc_visible": true,
      "include_colab_link": true
    },
    "kernelspec": {
      "name": "python3",
      "display_name": "Python 3"
    },
    "accelerator": "GPU"
  },
  "cells": [
    {
      "cell_type": "markdown",
      "metadata": {
        "id": "view-in-github",
        "colab_type": "text"
      },
      "source": [
        "<a href=\"https://colab.research.google.com/github/zw2497/Twitter_Stream_Processing/blob/master/PySpark_Structured_Streaming.ipynb\" target=\"_parent\"><img src=\"https://colab.research.google.com/assets/colab-badge.svg\" alt=\"Open In Colab\"/></a>"
      ]
    },
    {
      "metadata": {
        "id": "kvD4HBMi0ohY",
        "colab_type": "text"
      },
      "cell_type": "markdown",
      "source": [
        "# Install Java, Spark, and Findspark\n",
        "This installs Apache Spark 2.4.0, Java 8, and [Findspark](https://github.com/minrk/findspark), a library that makes it easy for Python to find Spark."
      ]
    },
    {
      "metadata": {
        "id": "fUhBhrGmyAvs",
        "colab_type": "code",
        "colab": {
          "base_uri": "https://localhost:8080/",
          "height": 63
        },
        "outputId": "8696e6f2-1e81-48d1-f63d-c289857c58af"
      },
      "cell_type": "code",
      "source": [
        "!apt-get install openjdk-8-jdk-headless -qq > /dev/null\n",
        "!wget -q https://www-us.apache.org/dist/spark/spark-2.4.2/spark-2.4.2-bin-hadoop2.7.tgz\n",
        "!tar xf spark-2.4.2-bin-hadoop2.7.tgz\n",
        "# !pip -q install findspark"
      ],
      "execution_count": 11,
      "outputs": [
        {
          "output_type": "stream",
          "text": [
            "^C\n"
          ],
          "name": "stdout"
        }
      ]
    },
    {
      "metadata": {
        "id": "b4Kjvk_h1AHl",
        "colab_type": "text"
      },
      "cell_type": "markdown",
      "source": [
        "#### Set Environment Variables\n",
        "Set the locations where Spark and Java are installed."
      ]
    },
    {
      "metadata": {
        "id": "8Xnb_ePUyQIL",
        "colab_type": "code",
        "colab": {}
      },
      "cell_type": "code",
      "source": [
        "import os\n",
        "os.environ[\"JAVA_HOME\"] = \"/usr/lib/jvm/java-8-openjdk-amd64\"\n",
        "os.environ[\"SPARK_HOME\"] = \"/content/spark-2.4.2-bin-hadoop2.7\""
      ],
      "execution_count": 0,
      "outputs": []
    },
    {
      "metadata": {
        "id": "NwU28K5f1H3P",
        "colab_type": "text"
      },
      "cell_type": "markdown",
      "source": [
        "# Start a SparkSession\n",
        "This will start a local Spark session."
      ]
    },
    {
      "metadata": {
        "id": "3NyDBHg6HKjw",
        "colab_type": "code",
        "outputId": "ab29e74c-6a10-4c13-f496-c4e69bbc99e2",
        "colab": {
          "base_uri": "https://localhost:8080/",
          "height": 34
        }
      },
      "cell_type": "code",
      "source": [
        "%%writefile ./kafka.py\n",
        "from pyspark.sql import SparkSession\n",
        "from pyspark.sql.functions import explode\n",
        "from pyspark.sql.functions import *\n",
        "\n",
        "\n",
        "spark = SparkSession \\\n",
        "    .builder \\\n",
        "    .appName(\"StructuredNetworkWordCount\") \\\n",
        "    .getOrCreate()\n",
        "spark.sparkContext.setLogLevel('FATAL')\n",
        "\n",
        "df = spark \\\n",
        "  .readStream \\\n",
        "  .format(\"kafka\") \\\n",
        "  .option(\"kafka.bootstrap.servers\", \"18.216.34.97:9092\") \\\n",
        "  .option(\"subscribe\", \"tweetv1\") \\\n",
        "  .option(\"startingOffsets\", \"latest\") \\\n",
        "  .load()\n",
        "\n",
        "#   .option(\"startingOffsets\", \"earlest\") \\\n",
        "\n",
        "df.selectExpr(\"CAST(key AS STRING)\", \"CAST(value AS STRING)\")\n",
        "\n",
        "print(df.isStreaming, \"Start receiving ... ...\")\n",
        "\n",
        "df.createOrReplaceTempView(\"pre\");\n",
        "df = spark.sql(\"\"\"select get_json_object(decode(value, 'utf-8'), '$.entities') \n",
        "                    as entities, timestamp from pre\"\"\");\n",
        "\n",
        "\n",
        "df.createOrReplaceTempView(\"tag\");\n",
        "df = spark.sql(\"\"\"select get_json_object(entities, '$.hashtags[0].text') as hashtag, timestamp \n",
        "                    from tag \n",
        "                    where length(get_json_object(entities, '$.hashtags[0].text')) > 2\"\"\");\n",
        "\n",
        "\n",
        "df.createOrReplaceTempView(\"win\");\n",
        "# df = spark.sql(\"\"\"\n",
        "# select hashtag as key, count(*) as value, now()\n",
        "# from win\n",
        "# group by window(timestamp, \"10 seconds\", \"5 seconds\"), hashtag\n",
        "# \"\"\")\n",
        "\n",
        "df = spark.sql(\"\"\"\n",
        "select concat_ws(' ', hashtag, string(count(*))) as value, now() as key\n",
        "from win\n",
        "group by window(timestamp, \"10 seconds\", \"5 seconds\"), hashtag\n",
        "\"\"\")\n",
        "\n",
        "\n",
        "\n",
        "# windowedCounts = df.groupBy(\n",
        "#         window(df.timestamp, \"5 seconds\", \"5 seconds\"),\n",
        "#         df.hashtag\n",
        "# ).count();\n",
        "\n",
        "# windowedCounts.printSchema();\n",
        "\n",
        "# df.createOrReplaceTempView(\"res\");\n",
        "\n",
        "# df = spark.sql(\"select hashtag as key, count as value from res\");\n",
        "\n",
        "\n",
        "\"\"\"\n",
        "Write to Console\n",
        "\"\"\"\n",
        "# query1 = df \\\n",
        "#     .writeStream \\\n",
        "#     .outputMode(\"update\") \\\n",
        "#     .format(\"console\") \\\n",
        "#     .option(\"truncate\", \"False\") \\\n",
        "#     .option(\"checkpointLocation\", \"/content/log\") \\\n",
        "#     .start()\n",
        "\n",
        "\"\"\"\n",
        "Write to kafka\n",
        "\"\"\"\n",
        "query1 = df \\\n",
        "  .selectExpr(\"CAST(key AS STRING)\", \"CAST(value AS STRING)\") \\\n",
        "  .writeStream \\\n",
        "  .format(\"kafka\") \\\n",
        "  .outputMode(\"update\") \\\n",
        "  .option(\"kafka.bootstrap.servers\", \"18.216.34.97:9092\") \\\n",
        "  .option(\"topic\", \"topk1\") \\\n",
        "  .option(\"checkpointLocation\", \"/content/log\") \\\n",
        "  .start()\n",
        "\n",
        "query1.awaitTermination()"
      ],
      "execution_count": 48,
      "outputs": [
        {
          "output_type": "stream",
          "text": [
            "Overwriting ./kafka.py\n"
          ],
          "name": "stdout"
        }
      ]
    },
    {
      "metadata": {
        "id": "kSnvAWZ_HKge",
        "colab_type": "code",
        "outputId": "984eb444-16d6-4c4e-9401-e8f7d678128b",
        "colab": {
          "base_uri": "https://localhost:8080/",
          "height": 1392
        }
      },
      "cell_type": "code",
      "source": [
        "!./spark-2.4.2-bin-hadoop2.7/bin/spark-submit --packages org.apache.spark:spark-sql-kafka-0-10_2.12:2.4.2 kafka.py"
      ],
      "execution_count": 0,
      "outputs": [
        {
          "output_type": "stream",
          "text": [
            "Ivy Default Cache set to: /root/.ivy2/cache\n",
            "The jars for the packages stored in: /root/.ivy2/jars\n",
            ":: loading settings :: url = jar:file:/content/spark-2.4.2-bin-hadoop2.7/jars/ivy-2.4.0.jar!/org/apache/ivy/core/settings/ivysettings.xml\n",
            "org.apache.spark#spark-sql-kafka-0-10_2.12 added as a dependency\n",
            ":: resolving dependencies :: org.apache.spark#spark-submit-parent-41d1f69b-d2da-4b09-8b2b-dfc3cb4e98f0;1.0\n",
            "\tconfs: [default]\n",
            "\tfound org.apache.spark#spark-sql-kafka-0-10_2.12;2.4.2 in central\n",
            "\tfound org.apache.kafka#kafka-clients;2.0.0 in central\n",
            "\tfound org.lz4#lz4-java;1.4.0 in central\n",
            "\tfound org.xerial.snappy#snappy-java;1.1.7.3 in central\n",
            "\tfound org.slf4j#slf4j-api;1.7.16 in central\n",
            "\tfound org.spark-project.spark#unused;1.0.0 in central\n",
            ":: resolution report :: resolve 513ms :: artifacts dl 26ms\n",
            "\t:: modules in use:\n",
            "\torg.apache.kafka#kafka-clients;2.0.0 from central in [default]\n",
            "\torg.apache.spark#spark-sql-kafka-0-10_2.12;2.4.2 from central in [default]\n",
            "\torg.lz4#lz4-java;1.4.0 from central in [default]\n",
            "\torg.slf4j#slf4j-api;1.7.16 from central in [default]\n",
            "\torg.spark-project.spark#unused;1.0.0 from central in [default]\n",
            "\torg.xerial.snappy#snappy-java;1.1.7.3 from central in [default]\n",
            "\t---------------------------------------------------------------------\n",
            "\t|                  |            modules            ||   artifacts   |\n",
            "\t|       conf       | number| search|dwnlded|evicted|| number|dwnlded|\n",
            "\t---------------------------------------------------------------------\n",
            "\t|      default     |   6   |   0   |   0   |   0   ||   6   |   0   |\n",
            "\t---------------------------------------------------------------------\n",
            ":: retrieving :: org.apache.spark#spark-submit-parent-41d1f69b-d2da-4b09-8b2b-dfc3cb4e98f0\n",
            "\tconfs: [default]\n",
            "\t0 artifacts copied, 6 already retrieved (0kB/21ms)\n",
            "19/04/25 20:51:13 WARN NativeCodeLoader: Unable to load native-hadoop library for your platform... using builtin-java classes where applicable\n",
            "Using Spark's default log4j profile: org/apache/spark/log4j-defaults.properties\n",
            "19/04/25 20:51:14 INFO SparkContext: Running Spark version 2.4.2\n",
            "19/04/25 20:51:14 INFO SparkContext: Submitted application: StructuredNetworkWordCount\n",
            "19/04/25 20:51:14 INFO SecurityManager: Changing view acls to: root\n",
            "19/04/25 20:51:14 INFO SecurityManager: Changing modify acls to: root\n",
            "19/04/25 20:51:14 INFO SecurityManager: Changing view acls groups to: \n",
            "19/04/25 20:51:14 INFO SecurityManager: Changing modify acls groups to: \n",
            "19/04/25 20:51:14 INFO SecurityManager: SecurityManager: authentication disabled; ui acls disabled; users  with view permissions: Set(root); groups with view permissions: Set(); users  with modify permissions: Set(root); groups with modify permissions: Set()\n",
            "19/04/25 20:51:15 INFO Utils: Successfully started service 'sparkDriver' on port 33595.\n",
            "19/04/25 20:51:15 INFO SparkEnv: Registering MapOutputTracker\n",
            "19/04/25 20:51:15 INFO SparkEnv: Registering BlockManagerMaster\n",
            "19/04/25 20:51:15 INFO BlockManagerMasterEndpoint: Using org.apache.spark.storage.DefaultTopologyMapper for getting topology information\n",
            "19/04/25 20:51:15 INFO BlockManagerMasterEndpoint: BlockManagerMasterEndpoint up\n",
            "19/04/25 20:51:15 INFO DiskBlockManager: Created local directory at /tmp/blockmgr-de32233f-7511-4751-873e-cd454a6ac9d6\n",
            "19/04/25 20:51:15 INFO MemoryStore: MemoryStore started with capacity 366.3 MB\n",
            "19/04/25 20:51:15 INFO SparkEnv: Registering OutputCommitCoordinator\n",
            "19/04/25 20:51:15 INFO Utils: Successfully started service 'SparkUI' on port 4040.\n",
            "19/04/25 20:51:15 INFO SparkUI: Bound SparkUI to 0.0.0.0, and started at http://615b65106123:4040\n",
            "19/04/25 20:51:15 INFO SparkContext: Added JAR file:///root/.ivy2/jars/org.apache.spark_spark-sql-kafka-0-10_2.12-2.4.2.jar at spark://615b65106123:33595/jars/org.apache.spark_spark-sql-kafka-0-10_2.12-2.4.2.jar with timestamp 1556225475777\n",
            "19/04/25 20:51:15 INFO SparkContext: Added JAR file:///root/.ivy2/jars/org.apache.kafka_kafka-clients-2.0.0.jar at spark://615b65106123:33595/jars/org.apache.kafka_kafka-clients-2.0.0.jar with timestamp 1556225475783\n",
            "19/04/25 20:51:15 INFO SparkContext: Added JAR file:///root/.ivy2/jars/org.spark-project.spark_unused-1.0.0.jar at spark://615b65106123:33595/jars/org.spark-project.spark_unused-1.0.0.jar with timestamp 1556225475784\n",
            "19/04/25 20:51:15 INFO SparkContext: Added JAR file:///root/.ivy2/jars/org.lz4_lz4-java-1.4.0.jar at spark://615b65106123:33595/jars/org.lz4_lz4-java-1.4.0.jar with timestamp 1556225475784\n",
            "19/04/25 20:51:15 INFO SparkContext: Added JAR file:///root/.ivy2/jars/org.xerial.snappy_snappy-java-1.1.7.3.jar at spark://615b65106123:33595/jars/org.xerial.snappy_snappy-java-1.1.7.3.jar with timestamp 1556225475784\n",
            "19/04/25 20:51:15 INFO SparkContext: Added JAR file:///root/.ivy2/jars/org.slf4j_slf4j-api-1.7.16.jar at spark://615b65106123:33595/jars/org.slf4j_slf4j-api-1.7.16.jar with timestamp 1556225475784\n",
            "19/04/25 20:51:15 INFO SparkContext: Added file file:///root/.ivy2/jars/org.apache.spark_spark-sql-kafka-0-10_2.12-2.4.2.jar at file:///root/.ivy2/jars/org.apache.spark_spark-sql-kafka-0-10_2.12-2.4.2.jar with timestamp 1556225475814\n",
            "19/04/25 20:51:15 INFO Utils: Copying /root/.ivy2/jars/org.apache.spark_spark-sql-kafka-0-10_2.12-2.4.2.jar to /tmp/spark-415054a1-8cfe-4c6f-bf92-5c6c4d3b38d5/userFiles-93a9f17e-2ebc-49d0-91f4-8064b4d0fc65/org.apache.spark_spark-sql-kafka-0-10_2.12-2.4.2.jar\n",
            "19/04/25 20:51:15 INFO SparkContext: Added file file:///root/.ivy2/jars/org.apache.kafka_kafka-clients-2.0.0.jar at file:///root/.ivy2/jars/org.apache.kafka_kafka-clients-2.0.0.jar with timestamp 1556225475833\n",
            "19/04/25 20:51:15 INFO Utils: Copying /root/.ivy2/jars/org.apache.kafka_kafka-clients-2.0.0.jar to /tmp/spark-415054a1-8cfe-4c6f-bf92-5c6c4d3b38d5/userFiles-93a9f17e-2ebc-49d0-91f4-8064b4d0fc65/org.apache.kafka_kafka-clients-2.0.0.jar\n",
            "19/04/25 20:51:15 INFO SparkContext: Added file file:///root/.ivy2/jars/org.spark-project.spark_unused-1.0.0.jar at file:///root/.ivy2/jars/org.spark-project.spark_unused-1.0.0.jar with timestamp 1556225475848\n",
            "19/04/25 20:51:15 INFO Utils: Copying /root/.ivy2/jars/org.spark-project.spark_unused-1.0.0.jar to /tmp/spark-415054a1-8cfe-4c6f-bf92-5c6c4d3b38d5/userFiles-93a9f17e-2ebc-49d0-91f4-8064b4d0fc65/org.spark-project.spark_unused-1.0.0.jar\n",
            "19/04/25 20:51:15 INFO SparkContext: Added file file:///root/.ivy2/jars/org.lz4_lz4-java-1.4.0.jar at file:///root/.ivy2/jars/org.lz4_lz4-java-1.4.0.jar with timestamp 1556225475859\n",
            "19/04/25 20:51:15 INFO Utils: Copying /root/.ivy2/jars/org.lz4_lz4-java-1.4.0.jar to /tmp/spark-415054a1-8cfe-4c6f-bf92-5c6c4d3b38d5/userFiles-93a9f17e-2ebc-49d0-91f4-8064b4d0fc65/org.lz4_lz4-java-1.4.0.jar\n",
            "19/04/25 20:51:15 INFO SparkContext: Added file file:///root/.ivy2/jars/org.xerial.snappy_snappy-java-1.1.7.3.jar at file:///root/.ivy2/jars/org.xerial.snappy_snappy-java-1.1.7.3.jar with timestamp 1556225475871\n",
            "19/04/25 20:51:15 INFO Utils: Copying /root/.ivy2/jars/org.xerial.snappy_snappy-java-1.1.7.3.jar to /tmp/spark-415054a1-8cfe-4c6f-bf92-5c6c4d3b38d5/userFiles-93a9f17e-2ebc-49d0-91f4-8064b4d0fc65/org.xerial.snappy_snappy-java-1.1.7.3.jar\n",
            "19/04/25 20:51:15 INFO SparkContext: Added file file:///root/.ivy2/jars/org.slf4j_slf4j-api-1.7.16.jar at file:///root/.ivy2/jars/org.slf4j_slf4j-api-1.7.16.jar with timestamp 1556225475877\n",
            "19/04/25 20:51:15 INFO Utils: Copying /root/.ivy2/jars/org.slf4j_slf4j-api-1.7.16.jar to /tmp/spark-415054a1-8cfe-4c6f-bf92-5c6c4d3b38d5/userFiles-93a9f17e-2ebc-49d0-91f4-8064b4d0fc65/org.slf4j_slf4j-api-1.7.16.jar\n",
            "19/04/25 20:51:16 INFO Executor: Starting executor ID driver on host localhost\n",
            "19/04/25 20:51:16 INFO Utils: Successfully started service 'org.apache.spark.network.netty.NettyBlockTransferService' on port 33749.\n",
            "19/04/25 20:51:16 INFO NettyBlockTransferService: Server created on 615b65106123:33749\n",
            "19/04/25 20:51:16 INFO BlockManager: Using org.apache.spark.storage.RandomBlockReplicationPolicy for block replication policy\n",
            "19/04/25 20:51:16 INFO BlockManagerMaster: Registering BlockManager BlockManagerId(driver, 615b65106123, 33749, None)\n",
            "19/04/25 20:51:16 INFO BlockManagerMasterEndpoint: Registering block manager 615b65106123:33749 with 366.3 MB RAM, BlockManagerId(driver, 615b65106123, 33749, None)\n",
            "19/04/25 20:51:16 INFO BlockManagerMaster: Registered BlockManager BlockManagerId(driver, 615b65106123, 33749, None)\n",
            "19/04/25 20:51:16 INFO BlockManager: Initialized BlockManager: BlockManagerId(driver, 615b65106123, 33749, None)\n",
            "19/04/25 20:51:16 INFO SharedState: Setting hive.metastore.warehouse.dir ('null') to the value of spark.sql.warehouse.dir ('file:/content/spark-warehouse/').\n",
            "19/04/25 20:51:16 INFO SharedState: Warehouse path is 'file:/content/spark-warehouse/'.\n",
            "19/04/25 20:51:17 INFO StateStoreCoordinatorRef: Registered StateStoreCoordinator endpoint\n",
            "True Start receiving ... ...\n"
          ],
          "name": "stdout"
        }
      ]
    },
    {
      "metadata": {
        "id": "HQwC6yY5NxE8",
        "colab_type": "code",
        "colab": {}
      },
      "cell_type": "code",
      "source": [
        ""
      ],
      "execution_count": 0,
      "outputs": []
    }
  ]
}