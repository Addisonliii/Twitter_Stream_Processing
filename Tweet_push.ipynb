{
  "nbformat": 4,
  "nbformat_minor": 0,
  "metadata": {
    "colab": {
      "name": "Tweet_push.ipynb",
      "version": "0.3.2",
      "provenance": [],
      "collapsed_sections": [],
      "include_colab_link": true
    },
    "kernelspec": {
      "name": "python2",
      "display_name": "Python 2"
    }
  },
  "cells": [
    {
      "cell_type": "markdown",
      "metadata": {
        "id": "view-in-github",
        "colab_type": "text"
      },
      "source": [
        "<a href=\"https://colab.research.google.com/github/zw2497/Twitter_Stream_Processing/blob/master/Tweet_push.ipynb\" target=\"_parent\"><img src=\"https://colab.research.google.com/assets/colab-badge.svg\" alt=\"Open In Colab\"/></a>"
      ]
    },
    {
      "metadata": {
        "id": "7QGFE7DI2-PR",
        "colab_type": "code",
        "colab": {}
      },
      "cell_type": "code",
      "source": [
        "# import tweepy\n",
        "\n",
        "# class MyStreamListener(tweepy.StreamListener):\n",
        "\n",
        "#    def on_status(self, status):\n",
        "#        print(status.text)\n",
        "\n",
        "#    def on_error(self, status_code):\n",
        "#        if status_code == 420:\n",
        "#            #returning False in on_data disconnects the stream\n",
        "#            return False\n",
        "\n",
        "# auth = tweepy.OAuthHandler(consumer_key, consumer_secret)\n",
        "# auth.set_access_token(access_token, access_token_secret)\n",
        "# api = tweepy.API(auth)\n",
        "\n",
        "# myStreamListener = MyStreamListener()\n",
        "# myStream = tweepy.Stream(auth = api.auth, listener=myStreamListener)"
      ],
      "execution_count": 0,
      "outputs": []
    },
    {
      "metadata": {
        "id": "mva7HGYR3ZFI",
        "colab_type": "code",
        "colab": {}
      },
      "cell_type": "code",
      "source": [
        "# myStream.filter(languages=['english'])"
      ],
      "execution_count": 0,
      "outputs": []
    },
    {
      "metadata": {
        "id": "lemMNBSEffMN",
        "colab_type": "code",
        "outputId": "5a5a525e-436e-497d-f7bc-e6dd6de248ff",
        "colab": {
          "base_uri": "https://localhost:8080/",
          "height": 72
        }
      },
      "cell_type": "code",
      "source": [
        "!pip -q install pycurl oauth2 kafka-python"
      ],
      "execution_count": 1,
      "outputs": [
        {
          "output_type": "stream",
          "text": [
            "\u001b[K    100% |████████████████████████████████| 215kB 12.0MB/s \n",
            "\u001b[K    100% |████████████████████████████████| 266kB 12.5MB/s \n",
            "\u001b[?25h  Building wheel for pycurl (setup.py) ... \u001b[?25ldone\n",
            "\u001b[?25h"
          ],
          "name": "stdout"
        }
      ]
    },
    {
      "metadata": {
        "id": "foPfLGiw3-oR",
        "colab_type": "code",
        "colab": {}
      },
      "cell_type": "code",
      "source": [
        "import time\n",
        "import pycurl\n",
        "import urllib\n",
        "import json\n",
        "import oauth2 as oauth"
      ],
      "execution_count": 0,
      "outputs": []
    },
    {
      "metadata": {
        "id": "YpCnZnMV3HTX",
        "colab_type": "code",
        "colab": {}
      },
      "cell_type": "code",
      "source": [
        "consumer_key  = \"2wrYTQnh4poBbF5MsubR3sk4k\"\n",
        "consumer_secret = \"93Yi0isNNgNPW4bFo8hsMpANUIw61lofgRRpz8H39P5V6o63tl\"\n",
        "access_token  = \"2761651876-LoLkgE3EFYkqIHSGEPvzB3udtmATj4XNem2MemW\"\n",
        "access_token_secret = \"1uDlUpdk6mrinFKFl3vN06xIVeORaa60EjubXrEOSpYKc\""
      ],
      "execution_count": 0,
      "outputs": []
    },
    {
      "metadata": {
        "id": "f59lvImzgv8r",
        "colab_type": "code",
        "colab": {}
      },
      "cell_type": "code",
      "source": [
        "API_ENDPOINT_URL = 'https://stream.twitter.com/1.1/statuses/filter.json'\n",
        "USER_AGENT = 'TwitterStream 1.0' # This can be anything really"
      ],
      "execution_count": 0,
      "outputs": []
    },
    {
      "metadata": {
        "id": "A-Nm7L2HfdJz",
        "colab_type": "code",
        "outputId": "c3394f4c-0d3e-422a-9cb8-55325e11e02e",
        "colab": {
          "base_uri": "https://localhost:8080/",
          "height": 55
        }
      },
      "cell_type": "code",
      "source": [
        "# You need to replace these with your own values\n",
        "OAUTH_KEYS = {'consumer_key': consumer_key,\n",
        "              'consumer_secret': consumer_secret,\n",
        "              'access_token_key': access_token,\n",
        "              'access_token_secret': access_token_secret}\n",
        "print(OAUTH_KEYS)"
      ],
      "execution_count": 5,
      "outputs": [
        {
          "output_type": "stream",
          "text": [
            "{'consumer_secret': '93Yi0isNNgNPW4bFo8hsMpANUIw61lofgRRpz8H39P5V6o63tl', 'access_token_key': '2761651876-LoLkgE3EFYkqIHSGEPvzB3udtmATj4XNem2MemW', 'consumer_key': '2wrYTQnh4poBbF5MsubR3sk4k', 'access_token_secret': '1uDlUpdk6mrinFKFl3vN06xIVeORaa60EjubXrEOSpYKc'}\n"
          ],
          "name": "stdout"
        }
      ]
    },
    {
      "metadata": {
        "id": "z1_lurgpgA4u",
        "colab_type": "code",
        "colab": {}
      },
      "cell_type": "code",
      "source": [
        "POST_PARAMS = {'include_entities': 0,\n",
        "               'stall_warning': 'true',\n",
        "            #  'track': '#',\n",
        "               'locations': '-171, 18, -66, 71'}"
      ],
      "execution_count": 0,
      "outputs": []
    },
    {
      "metadata": {
        "id": "hIGVZrWDgK3R",
        "colab_type": "code",
        "colab": {}
      },
      "cell_type": "code",
      "source": [
        "class TwitterStream:\n",
        "    def __init__(self, timeout=False):\n",
        "        self.oauth_token = oauth.Token(key=OAUTH_KEYS['access_token_key'], secret=OAUTH_KEYS['access_token_secret'])\n",
        "        self.oauth_consumer = oauth.Consumer(key=OAUTH_KEYS['consumer_key'], secret=OAUTH_KEYS['consumer_secret'])\n",
        "        self.conn = None\n",
        "        self.buffer = ''\n",
        "        self.timeout = timeout\n",
        "        self.setup_connection()\n",
        "\n",
        "    def setup_connection(self):\n",
        "        \"\"\" Create persistant HTTP connection to Streaming API endpoint using cURL.\n",
        "        \"\"\"\n",
        "        if self.conn:\n",
        "            self.conn.close()\n",
        "            self.buffer = ''\n",
        "        self.conn = pycurl.Curl()\n",
        "        # Restart connection if less than 1 byte/s is received during \"timeout\" seconds\n",
        "        if isinstance(self.timeout, int):\n",
        "            self.conn.setopt(pycurl.LOW_SPEED_LIMIT, 1)\n",
        "            self.conn.setopt(pycurl.LOW_SPEED_TIME, self.timeout)\n",
        "        self.conn.setopt(pycurl.URL, API_ENDPOINT_URL)\n",
        "        self.conn.setopt(pycurl.USERAGENT, USER_AGENT)\n",
        "        # Using gzip is optional but saves us bandwidth.\n",
        "        self.conn.setopt(pycurl.ENCODING, 'deflate, gzip')\n",
        "        self.conn.setopt(pycurl.POST, 1)\n",
        "        self.conn.setopt(pycurl.POSTFIELDS, urllib.urlencode(POST_PARAMS))\n",
        "        self.conn.setopt(pycurl.HTTPHEADER, ['Host: stream.twitter.com',\n",
        "                                             'Authorization: %s' % self.get_oauth_header()])\n",
        "        # self.handle_tweet is the method that are called when new tweets arrive\n",
        "        self.conn.setopt(pycurl.WRITEFUNCTION, self.handle_tweet)\n",
        "\n",
        "    def get_oauth_header(self):\n",
        "        \"\"\" Create and return OAuth header.\n",
        "        \"\"\"\n",
        "        params = {'oauth_version': '1.0',\n",
        "                  'oauth_nonce': oauth.generate_nonce(),\n",
        "                  'oauth_timestamp': str(int(time.time()))}\n",
        "        req = oauth.Request(method='POST', parameters=params, url='%s?%s' % (API_ENDPOINT_URL,\n",
        "                                                                             urllib.urlencode(POST_PARAMS)))\n",
        "        req.sign_request(oauth.SignatureMethod_HMAC_SHA1(), self.oauth_consumer, self.oauth_token)\n",
        "        \n",
        "       \n",
        "        return str(req.to_header()['Authorization']).encode('utf-8')\n",
        "\n",
        "    def start(self):\n",
        "        \"\"\" Start listening to Streaming endpoint.\n",
        "        Handle exceptions according to Twitter's recommendations.\n",
        "        \"\"\"\n",
        "        backoff_network_error = 0.25\n",
        "        backoff_http_error = 5\n",
        "        backoff_rate_limit = 60\n",
        "        while True:\n",
        "            self.setup_connection()\n",
        "            try:\n",
        "                self.conn.perform()\n",
        "            except:\n",
        "                # Network error, use linear back off up to 16 seconds\n",
        "                print('Network error: %s' % self.conn.errstr())\n",
        "                print('Waiting %s seconds before trying again' % backoff_network_error)\n",
        "                time.sleep(backoff_network_error)\n",
        "                backoff_network_error = min(backoff_network_error + 1, 16)\n",
        "                continue\n",
        "            # HTTP Error\n",
        "            sc = self.conn.getinfo(pycurl.HTTP_CODE)\n",
        "            if sc == 420:\n",
        "                # Rate limit, use exponential back off starting with 1 minute and double each attempt\n",
        "                print('Rate limit, waiting %s seconds' % backoff_rate_limit)\n",
        "                time.sleep(backoff_rate_limit)\n",
        "                backoff_rate_limit *= 2\n",
        "            else:\n",
        "                # HTTP error, use exponential back off up to 320 seconds\n",
        "                print('HTTP error %s, %s' % (sc, self.conn.errstr()))\n",
        "                print('Waiting %s seconds' % backoff_http_error)\n",
        "                time.sleep(backoff_http_error)\n",
        "                backoff_http_error = min(backoff_http_error * 2, 320)\n",
        "\n",
        "    def handle_tweet(self, data):\n",
        "        \"\"\" This method is called when data is received through Streaming endpoint.\n",
        "        \"\"\"\n",
        "        self.buffer += str(data)\n",
        "        if data.endswith(b'\\r\\n') and self.buffer.strip():\n",
        "            # complete message received\n",
        "            message = json.loads(self.buffer)\n",
        "            self.buffer = ''\n",
        "            msg = ''\n",
        "            if message.get('limit'):\n",
        "                print('Rate limiting caused us to miss %s tweets' % (message['limit'].get('track')))\n",
        "            elif message.get('disconnect'):\n",
        "                raise Exception('Got disconnect: %s' % message['disconnect'].get('reason'))\n",
        "            elif message.get('warning'):\n",
        "                print('Got warning: %s' % message['warning'].get('message'))\n",
        "            else:\n",
        "                print(message)\n",
        "                print('Got tweet with text: %s' % message.get('text'))\n",
        "            \n",
        "            producer.send('tweetv1', value=message) "
      ],
      "execution_count": 0,
      "outputs": []
    },
    {
      "metadata": {
        "id": "LdKRUcY37x_C",
        "colab_type": "code",
        "colab": {}
      },
      "cell_type": "code",
      "source": [
        "from kafka import KafkaProducer\n",
        "from kafka.errors import KafkaError\n",
        "from json import dumps"
      ],
      "execution_count": 0,
      "outputs": []
    },
    {
      "metadata": {
        "id": "3NyB-SH17pfZ",
        "colab_type": "code",
        "colab": {}
      },
      "cell_type": "code",
      "source": [
        "producer = KafkaProducer(bootstrap_servers=['18.216.34.97:9092'],\n",
        "                         value_serializer=lambda x: \n",
        "                         dumps(x).encode('utf-8'))"
      ],
      "execution_count": 0,
      "outputs": []
    },
    {
      "metadata": {
        "id": "W9K26oH1RJja",
        "colab_type": "code",
        "colab": {}
      },
      "cell_type": "code",
      "source": [
        "ts = TwitterStream()\n",
        "ts.setup_connection()\n",
        "ts.start()"
      ],
      "execution_count": 0,
      "outputs": []
    },
    {
      "metadata": {
        "id": "Dc3o-6BrRLCF",
        "colab_type": "code",
        "colab": {}
      },
      "cell_type": "code",
      "source": [
        "producer.close()"
      ],
      "execution_count": 0,
      "outputs": []
    },
    {
      "metadata": {
        "id": "Zbj6yxJzUqzD",
        "colab_type": "code",
        "colab": {}
      },
      "cell_type": "code",
      "source": [
        "from kafka import KafkaConsumer\n",
        "from json import loads"
      ],
      "execution_count": 0,
      "outputs": []
    },
    {
      "metadata": {
        "id": "2Wtn7qBAUtG5",
        "colab_type": "code",
        "colab": {}
      },
      "cell_type": "code",
      "source": [
        "consumer = KafkaConsumer(\n",
        "    'numtest',\n",
        "     bootstrap_servers=['18.216.34.97:9092'],\n",
        "     auto_offset_reset='earliest',\n",
        "     enable_auto_commit=True,\n",
        "     group_id='my-group310',\n",
        "     value_deserializer=lambda x: loads(x.decode('utf-8')))"
      ],
      "execution_count": 0,
      "outputs": []
    },
    {
      "metadata": {
        "id": "q9-4VSwzUwC5",
        "colab_type": "code",
        "colab": {}
      },
      "cell_type": "code",
      "source": [
        "for message in consumer:\n",
        "    message = message.value\n",
        "    print(message)\n",
        "    print(type(message))"
      ],
      "execution_count": 0,
      "outputs": []
    }
  ]
}